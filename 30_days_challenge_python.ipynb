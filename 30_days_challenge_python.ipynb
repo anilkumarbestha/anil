{
  "cells": [
    {
      "cell_type": "markdown",
      "metadata": {
        "id": "view-in-github",
        "colab_type": "text"
      },
      "source": [
        "<a href=\"https://colab.research.google.com/github/anilkumarbestha/anil/blob/main/30_days_challenge_python.ipynb\" target=\"_parent\"><img src=\"https://colab.research.google.com/assets/colab-badge.svg\" alt=\"Open In Colab\"/></a>"
      ]
    },
    {
      "cell_type": "code",
      "execution_count": null,
      "metadata": {
        "colab": {
          "base_uri": "https://localhost:8080/"
        },
        "id": "HKbkJuFlIsY1",
        "outputId": "e78387b9-d05a-4969-96cb-3eed10d51703"
      },
      "outputs": [
        {
          "name": "stdout",
          "output_type": "stream",
          "text": [
            "anil kumar kumar dileep kumar nanaku prematho\n"
          ]
        }
      ],
      "source": [
        "print(\"anil\",end=' ')\n",
        "print('kumar','kumar',end=' ')\n",
        "print('dileep','kumar',end=' ')\n",
        "print('nanaku','prematho')"
      ]
    },
    {
      "cell_type": "code",
      "execution_count": null,
      "metadata": {
        "colab": {
          "base_uri": "https://localhost:8080/"
        },
        "id": "4WPOYwJ5VxXe",
        "outputId": "3ec341f1-cc2e-4e55-ed29-f52fb7d87ca9"
      },
      "outputs": [
        {
          "name": "stdout",
          "output_type": "stream",
          "text": [
            "3 4.4 "
          ]
        }
      ],
      "source": [
        " a =3\n",
        " b= 4.4\n",
        " print(a,b ,end=' ')"
      ]
    },
    {
      "cell_type": "code",
      "execution_count": null,
      "metadata": {
        "colab": {
          "base_uri": "https://localhost:8080/"
        },
        "id": "oyQM-QVPdAzG",
        "outputId": "b9712028-9c06-47ac-9c05-2abb5834ece6"
      },
      "outputs": [
        {
          "name": "stdout",
          "output_type": "stream",
          "text": [
            "10\n"
          ]
        }
      ],
      "source": [
        "a=input()"
      ]
    },
    {
      "cell_type": "code",
      "execution_count": null,
      "metadata": {
        "colab": {
          "base_uri": "https://localhost:8080/"
        },
        "id": "M4eUio4SdFpJ",
        "outputId": "d72da605-6f03-4b70-ad74-4c82b8742bf5"
      },
      "outputs": [
        {
          "name": "stdout",
          "output_type": "stream",
          "text": [
            "10\n"
          ]
        }
      ],
      "source": [
        "print(a)"
      ]
    },
    {
      "cell_type": "code",
      "execution_count": null,
      "metadata": {
        "colab": {
          "base_uri": "https://localhost:8080/"
        },
        "id": "LdgblWHPdRr-",
        "outputId": "5bed3b19-207c-4d02-d645-e110d4a32cdf"
      },
      "outputs": [
        {
          "name": "stdout",
          "output_type": "stream",
          "text": [
            "enter a first number =4\n",
            "enter a second number =5\n"
          ]
        }
      ],
      "source": [
        "number1=input('enter a first number =')\n",
        "number2=input('enter a second number =')"
      ]
    },
    {
      "cell_type": "code",
      "execution_count": null,
      "metadata": {
        "colab": {
          "base_uri": "https://localhost:8080/"
        },
        "id": "s7NwAI3beYKn",
        "outputId": "64dda975-9a61-4596-ec15-bd52220def7a"
      },
      "outputs": [
        {
          "name": "stdout",
          "output_type": "stream",
          "text": [
            "45\n"
          ]
        }
      ],
      "source": [
        "print(number1+number2)"
      ]
    },
    {
      "cell_type": "code",
      "execution_count": null,
      "metadata": {
        "colab": {
          "base_uri": "https://localhost:8080/"
        },
        "id": "QGoQjkNlejrr",
        "outputId": "5dae870f-1774-4254-d884-53a27afd0bd8"
      },
      "outputs": [
        {
          "name": "stdout",
          "output_type": "stream",
          "text": [
            "4\n",
            "5\n"
          ]
        }
      ],
      "source": [
        "print(number1,number2,sep=\"\\n\")"
      ]
    },
    {
      "cell_type": "code",
      "execution_count": null,
      "metadata": {
        "colab": {
          "base_uri": "https://localhost:8080/"
        },
        "id": "pVf58dd_ftn5",
        "outputId": "8a7e4717-118b-49fd-a812-07c93bba3bf7"
      },
      "outputs": [
        {
          "name": "stdout",
          "output_type": "stream",
          "text": [
            "45\n"
          ]
        }
      ],
      "source": [
        "print(number1+number2)"
      ]
    },
    {
      "cell_type": "code",
      "execution_count": null,
      "metadata": {
        "colab": {
          "base_uri": "https://localhost:8080/"
        },
        "id": "xZcALtQKhgPh",
        "outputId": "f38a7e47-7ac6-4989-9e5f-0d8f99e2bf18"
      },
      "outputs": [
        {
          "name": "stdout",
          "output_type": "stream",
          "text": [
            "Anil kumar\n",
            "ayz\n"
          ]
        }
      ],
      "source": [
        "a =\"Anil\"\n",
        "b =\" \"\n",
        "c =\"kumar\"\n",
        "d=a+b+c\n",
        "print(d)\n",
        "x=\"a\"+\"yz\"\n",
        "print(x)"
      ]
    },
    {
      "cell_type": "code",
      "execution_count": null,
      "metadata": {
        "colab": {
          "base_uri": "https://localhost:8080/"
        },
        "id": "QUmKebeslMDq",
        "outputId": "584b2c20-fea7-4d40-f734-a38627d04cbd"
      },
      "outputs": [
        {
          "name": "stdout",
          "output_type": "stream",
          "text": [
            "9\n"
          ]
        }
      ],
      "source": [
        "number1 =int(number1)\n",
        "number2=int(number2)\n",
        "value=(number1+number2)\n",
        "print(value)"
      ]
    },
    {
      "cell_type": "code",
      "execution_count": null,
      "metadata": {
        "colab": {
          "base_uri": "https://localhost:8080/"
        },
        "id": "eRbB-3a_nN48",
        "outputId": "df8ce1ac-2d60-431d-d222-0b623823bea6"
      },
      "outputs": [
        {
          "name": "stdout",
          "output_type": "stream",
          "text": [
            "My name is:  azmat Hello Everyone\n"
          ]
        }
      ],
      "source": [
        "print(\"My name is: \", \"azmat\",end=\" \")\n",
        "print(\"Hello Everyone\")"
      ]
    },
    {
      "cell_type": "code",
      "execution_count": null,
      "metadata": {
        "colab": {
          "base_uri": "https://localhost:8080/"
        },
        "id": "HW202_0unt1u",
        "outputId": "1950641d-dda8-4ee5-93bd-6c78fdd1b779"
      },
      "outputs": [
        {
          "name": "stdout",
          "output_type": "stream",
          "text": [
            "5 4 "
          ]
        }
      ],
      "source": [
        "a = 5\n",
        "b = 4\n",
        "print(a,b,end=\" \")"
      ]
    },
    {
      "cell_type": "code",
      "execution_count": null,
      "metadata": {
        "colab": {
          "base_uri": "https://localhost:8080/"
        },
        "id": "h8TLTfP2oFRQ",
        "outputId": "b27ef4e1-3f80-46fb-f381-3706c3328704"
      },
      "outputs": [
        {
          "name": "stdout",
          "output_type": "stream",
          "text": [
            "afzal@CodingNinjas\n"
          ]
        }
      ],
      "source": [
        "print(\"afzal\", end = \"@\")\n",
        "print(\"CodingNinjas\")"
      ]
    },
    {
      "cell_type": "code",
      "execution_count": null,
      "metadata": {
        "colab": {
          "base_uri": "https://localhost:8080/"
        },
        "id": "r_Bpbax8ogAJ",
        "outputId": "7183f4e6-17d3-429a-a705-8a9037ea8ca3"
      },
      "outputs": [
        {
          "name": "stdout",
          "output_type": "stream",
          "text": [
            "5,6,7\n"
          ]
        }
      ],
      "source": [
        "print(5, 6, 7, sep = \",\" )"
      ]
    },
    {
      "cell_type": "code",
      "execution_count": null,
      "metadata": {
        "colab": {
          "base_uri": "https://localhost:8080/"
        },
        "id": "cdcj8O8hWCKa",
        "outputId": "5916eff9-20d1-4791-ea73-f7eafa98c811"
      },
      "outputs": [
        {
          "name": "stdout",
          "output_type": "stream",
          "text": [
            "4\n",
            "20\n"
          ]
        }
      ],
      "source": [
        "length =input()\n",
        "breadth=input()"
      ]
    },
    {
      "cell_type": "code",
      "execution_count": null,
      "metadata": {
        "colab": {
          "base_uri": "https://localhost:8080/"
        },
        "id": "rAceIfrdWQGV",
        "outputId": "deeea7b9-9c4a-48ab-b968-3311ff6030f2"
      },
      "outputs": [
        {
          "name": "stdout",
          "output_type": "stream",
          "text": [
            "hi\n"
          ]
        }
      ],
      "source": [
        "print('hi')"
      ]
    },
    {
      "cell_type": "code",
      "execution_count": null,
      "metadata": {
        "id": "_ZkRwb88TbwE"
      },
      "outputs": [],
      "source": [
        "a = int(input(\"enter a number \"))"
      ]
    },
    {
      "cell_type": "code",
      "execution_count": null,
      "metadata": {
        "colab": {
          "base_uri": "https://localhost:8080/"
        },
        "id": "hAFnnhSsVWdO",
        "outputId": "3ec9bd1e-2a39-4e02-e210-5626cd6f5d8d"
      },
      "outputs": [
        {
          "name": "stdout",
          "output_type": "stream",
          "text": [
            "Welcome to CodingNinjas\n"
          ]
        }
      ],
      "source": [
        "if 10 == 10:\n",
        "    print(\"Welcome to CodingNinjas\")\n"
      ]
    },
    {
      "cell_type": "code",
      "execution_count": null,
      "metadata": {
        "id": "LhM7sB3kTkOx"
      },
      "outputs": [],
      "source": [
        "if a==2:\n",
        "  print('hello')\n",
        "print('outside')\n"
      ]
    },
    {
      "cell_type": "code",
      "execution_count": null,
      "metadata": {
        "colab": {
          "base_uri": "https://localhost:8080/"
        },
        "id": "hV2U5FggT8Hw",
        "outputId": "74886f53-b175-4fa1-805a-c8cd5070af3a"
      },
      "outputs": [
        {
          "name": "stdout",
          "output_type": "stream",
          "text": [
            "true\n"
          ]
        }
      ],
      "source": [
        "a,b =12,5\n",
        "if a+b:\n",
        "  print('true')\n",
        "else:\n",
        "  print('false')"
      ]
    },
    {
      "cell_type": "code",
      "execution_count": null,
      "metadata": {
        "colab": {
          "base_uri": "https://localhost:8080/"
        },
        "id": "n65F2dNtJ5Zb",
        "outputId": "dfb64bf8-bdd7-49f7-ea41-cc70619c5021"
      },
      "outputs": [
        {
          "name": "stdout",
          "output_type": "stream",
          "text": [
            " enter a first number before a swap 2\n",
            "enter a second number before a swap 4\n"
          ]
        }
      ],
      "source": [
        "num1 =int(input(\" enter a first number before a swap \"))\n",
        "num2 =int(input(\"enter a second number before a swap \"))"
      ]
    },
    {
      "cell_type": "code",
      "execution_count": null,
      "metadata": {
        "colab": {
          "base_uri": "https://localhost:8080/"
        },
        "id": "YCe13yyGKTa5",
        "outputId": "ff6dfbe5-6fab-4387-fe62-4da84bee1943"
      },
      "outputs": [
        {
          "name": "stdout",
          "output_type": "stream",
          "text": [
            "Value of num1 before swaping 2\n",
            "value of num2 before swaping 4\n",
            "value of num1 after swaping 4\n",
            "value of num2 after swaping 2\n"
          ]
        }
      ],
      "source": [
        "num1=2\n",
        "num2=4\n",
        "print(\"Value of num1 before swaping\",num1)\n",
        "print(\"value of num2 before swaping\",num2)\n",
        "\n",
        "temp=num1\n",
        "num1=num2\n",
        "num2=temp\n",
        "print(\"value of num1 after swaping\",num1)\n",
        "print(\"value of num2 after swaping\",num2)"
      ]
    },
    {
      "cell_type": "code",
      "execution_count": null,
      "metadata": {
        "colab": {
          "base_uri": "https://localhost:8080/"
        },
        "id": "1xphDoFaXvwn",
        "outputId": "5d7a2645-a823-490d-f5d2-c59e0b13233d"
      },
      "outputs": [
        {
          "name": "stdout",
          "output_type": "stream",
          "text": [
            "2, 3, 4, "
          ]
        }
      ],
      "source": [
        "for num in range(2,5,1):\n",
        "    print(num, end=\", \")"
      ]
    },
    {
      "cell_type": "code",
      "execution_count": null,
      "metadata": {
        "colab": {
          "base_uri": "https://localhost:8080/"
        },
        "id": "Lr4ebtlDYsCb",
        "outputId": "e095cef0-2fef-425a-84d9-86fb4453e667"
      },
      "outputs": [
        {
          "name": "stdout",
          "output_type": "stream",
          "text": [
            "Object `code` not found.\n",
            "1 3 5 "
          ]
        }
      ],
      "source": [
        "What will be the output of the following Python code?\n",
        "\n",
        "i = 0\n",
        "while(i < 5):\n",
        "    i = i + 1\n",
        "    print(i,end = \" \")\n",
        "    i += 1"
      ]
    },
    {
      "cell_type": "code",
      "execution_count": null,
      "metadata": {
        "colab": {
          "base_uri": "https://localhost:8080/"
        },
        "id": "wJKFccUAYr9z",
        "outputId": "337e93c8-3eb9-4424-e0bd-86f9875644a4"
      },
      "outputs": [
        {
          "name": "stdout",
          "output_type": "stream",
          "text": [
            "1\n",
            "3\n",
            "5\n"
          ]
        }
      ],
      "source": [
        "i = 0\n",
        "while(i < 5):\n",
        "    i = i + 1\n",
        "    print(i)\n",
        "    i += 1"
      ]
    },
    {
      "cell_type": "code",
      "execution_count": null,
      "metadata": {
        "colab": {
          "base_uri": "https://localhost:8080/"
        },
        "id": "CaYrwLc3HKir",
        "outputId": "fa7fc4c7-19d6-41aa-9a0d-dea07e6d364b"
      },
      "outputs": [
        {
          "name": "stdout",
          "output_type": "stream",
          "text": [
            "3\n",
            "5\n"
          ]
        }
      ],
      "source": [
        "i =2\n",
        "while(i<5):\n",
        "  i=i+1\n",
        "  print(i)\n",
        "  i+=1"
      ]
    },
    {
      "cell_type": "code",
      "execution_count": null,
      "metadata": {
        "colab": {
          "base_uri": "https://localhost:8080/"
        },
        "id": "p5CoadaOH52m",
        "outputId": "edc41699-a0ce-4773-e98b-c52cc7e78f86"
      },
      "outputs": [
        {
          "name": "stdout",
          "output_type": "stream",
          "text": [
            "0\n",
            "1\n",
            "2\n",
            "3\n",
            "4\n"
          ]
        }
      ],
      "source": [
        "a=0\n",
        "while a<5:\n",
        "  print(a)\n",
        "  a=a+1\n"
      ]
    },
    {
      "cell_type": "code",
      "execution_count": null,
      "metadata": {
        "colab": {
          "base_uri": "https://localhost:8080/"
        },
        "id": "aAjVWe8EOcvg",
        "outputId": "cd4901ee-6467-4d3c-a636-021da1e9c4ca"
      },
      "outputs": [
        {
          "name": "stdout",
          "output_type": "stream",
          "text": [
            "0\n",
            "1\n",
            "2\n"
          ]
        }
      ],
      "source": [
        "i =0\n",
        "while i<5:\n",
        "  if i==3:\n",
        "    break\n",
        "  print(i)\n",
        "  i=i+1\n"
      ]
    },
    {
      "cell_type": "code",
      "execution_count": null,
      "metadata": {
        "colab": {
          "base_uri": "https://localhost:8080/"
        },
        "id": "UGreq4rYMq92",
        "outputId": "5ea89517-fb2a-4bfb-f8e9-4aba36031d7f"
      },
      "outputs": [
        {
          "name": "stdout",
          "output_type": "stream",
          "text": [
            "1\n",
            "3\n",
            "5\n"
          ]
        }
      ],
      "source": [
        "i =0\n",
        "while i<5:\n",
        "  i =i+1\n",
        "  print(i,sep=\"\\n\")\n",
        "  i+=1"
      ]
    },
    {
      "cell_type": "code",
      "execution_count": null,
      "metadata": {
        "colab": {
          "base_uri": "https://localhost:8080/"
        },
        "id": "hnfKTmo8M8Ot",
        "outputId": "875f7b07-3b77-4a75-8528-ca509caeda39"
      },
      "outputs": [
        {
          "name": "stdout",
          "output_type": "stream",
          "text": [
            "0 1 2 3 4 "
          ]
        }
      ],
      "source": [
        "i = 0\n",
        "while(i < 5):\n",
        "    print(i,end = \" \")\n",
        "    i=i+1"
      ]
    },
    {
      "cell_type": "code",
      "execution_count": null,
      "metadata": {
        "colab": {
          "background_save": true,
          "base_uri": "https://localhost:8080/"
        },
        "id": "au490hNPa5OA",
        "outputId": "2400cf8f-b795-47c6-808f-d67b3640c671"
      },
      "outputs": [
        {
          "name": "stdout",
          "output_type": "stream",
          "text": [
            "0 1 "
          ]
        }
      ],
      "source": [
        "i = 0\n",
        "while i < 5:\n",
        "    if i == 2:\n",
        "        continue\n",
        "    else:\n",
        "        print(i,end = \" \")\n",
        "        i += 1"
      ]
    },
    {
      "cell_type": "code",
      "execution_count": null,
      "metadata": {
        "id": "mmX7oUHza8r7"
      },
      "outputs": [],
      "source": [
        "n = 0\n",
        "while n <5:\n",
        "  n=n+1\n",
        "  if n==3:\n",
        "    continue\n",
        "    print(n)\n",
        "    n=n+1"
      ]
    },
    {
      "cell_type": "code",
      "execution_count": null,
      "metadata": {
        "colab": {
          "base_uri": "https://localhost:8080/"
        },
        "id": "3v1PaEY1O8M6",
        "outputId": "28401da3-df43-4363-a1c1-690336e23498"
      },
      "outputs": [
        {
          "name": "stdout",
          "output_type": "stream",
          "text": [
            "1 2 4 "
          ]
        }
      ],
      "source": [
        "for i in range(1,5):\n",
        "  if i==3:\n",
        "    continue\n",
        "  else:\n",
        "    print(i,end=\" \")\n"
      ]
    },
    {
      "cell_type": "code",
      "execution_count": null,
      "metadata": {
        "colab": {
          "base_uri": "https://localhost:8080/"
        },
        "id": "zFBe0NJAWv1G",
        "outputId": "94ec851c-af38-4bf1-acb5-0ed42ca5e4d0"
      },
      "outputs": [
        {
          "name": "stdout",
          "output_type": "stream",
          "text": [
            "anil\n"
          ]
        }
      ],
      "source": [
        "a = 'anil'\n",
        "print(a)\n"
      ]
    },
    {
      "cell_type": "code",
      "execution_count": null,
      "metadata": {
        "colab": {
          "base_uri": "https://localhost:8080/",
          "height": 35
        },
        "id": "6QI6TKdiXSpn",
        "outputId": "8b506512-05a4-47d1-911b-41cf92de1835"
      },
      "outputs": [
        {
          "data": {
            "application/vnd.google.colaboratory.intrinsic+json": {
              "type": "string"
            },
            "text/plain": [
              "'n'"
            ]
          },
          "execution_count": 21,
          "metadata": {},
          "output_type": "execute_result"
        }
      ],
      "source": [
        "a[-3]\n"
      ]
    },
    {
      "cell_type": "code",
      "execution_count": null,
      "metadata": {
        "colab": {
          "base_uri": "https://localhost:8080/"
        },
        "id": "dqk0DPHbdanx",
        "outputId": "8e0881e9-42f7-43fe-89dc-8047f6ec8a80"
      },
      "outputs": [
        {
          "name": "stdout",
          "output_type": "stream",
          "text": [
            "anilkumar\n"
          ]
        }
      ],
      "source": [
        "a ='anil'\n",
        "b= 'kumar'\n",
        "d=a+b\n",
        "print(d)"
      ]
    },
    {
      "cell_type": "code",
      "execution_count": null,
      "metadata": {
        "colab": {
          "base_uri": "https://localhost:8080/"
        },
        "id": "tmraaUPGd664",
        "outputId": "93edd7bf-20ea-4326-d8b9-3e27ec1e92c2"
      },
      "outputs": [
        {
          "name": "stdout",
          "output_type": "stream",
          "text": [
            "anilkumar\n"
          ]
        }
      ],
      "source": [
        "c= a+b\n",
        "print(c)"
      ]
    },
    {
      "cell_type": "code",
      "execution_count": null,
      "metadata": {
        "colab": {
          "base_uri": "https://localhost:8080/"
        },
        "id": "n2Qc3njieCL4",
        "outputId": "066ced5a-0ef2-46ec-8231-8ad35030368f"
      },
      "outputs": [
        {
          "name": "stdout",
          "output_type": "stream",
          "text": [
            "a n i l k u m a r "
          ]
        }
      ],
      "source": [
        "for i in d:\n",
        "  print(i,end=' ')"
      ]
    },
    {
      "cell_type": "code",
      "execution_count": null,
      "metadata": {
        "colab": {
          "base_uri": "https://localhost:8080/"
        },
        "id": "VBC7IMHigEmE",
        "outputId": "62df15b7-2a6a-4433-9582-f208d4b26aca"
      },
      "outputs": [
        {
          "data": {
            "text/plain": [
              "False"
            ]
          },
          "execution_count": 40,
          "metadata": {},
          "output_type": "execute_result"
        }
      ],
      "source": [
        "'a' in c\n",
        "'b' in c"
      ]
    },
    {
      "cell_type": "code",
      "execution_count": null,
      "metadata": {
        "colab": {
          "base_uri": "https://localhost:8080/"
        },
        "id": "LwUx74jVggR4",
        "outputId": "a14fa17a-ac24-416b-9ced-221b98b6225b"
      },
      "outputs": [
        {
          "data": {
            "text/plain": [
              "True"
            ]
          },
          "execution_count": 41,
          "metadata": {},
          "output_type": "execute_result"
        }
      ],
      "source": [
        "'k' in c"
      ]
    },
    {
      "cell_type": "code",
      "execution_count": null,
      "metadata": {
        "colab": {
          "base_uri": "https://localhost:8080/"
        },
        "id": "m_mO0CRoiE-m",
        "outputId": "365178f3-19c5-41c4-ec8b-e083b76add7d"
      },
      "outputs": [
        {
          "name": "stdout",
          "output_type": "stream",
          "text": [
            "\\n\n"
          ]
        }
      ],
      "source": [
        "print(r'\\n')"
      ]
    },
    {
      "cell_type": "code",
      "execution_count": null,
      "metadata": {
        "id": "9rb_uUmrkrgW"
      },
      "outputs": [],
      "source": [
        "b"
      ]
    },
    {
      "cell_type": "code",
      "execution_count": null,
      "metadata": {
        "colab": {
          "base_uri": "https://localhost:8080/"
        },
        "id": "8_BHS2JNjXyU",
        "outputId": "4024a207-d217-4887-af75-ebdeb021935d"
      },
      "outputs": [
        {
          "name": "stdout",
          "output_type": "stream",
          "text": [
            "enter a good name pleaseAnil\n",
            "hii {},what about you ? Anil\n"
          ]
        }
      ],
      "source": [
        "name =input(\"enter a good name please\")\n",
        "print('hii {},what about you ?',format(name))"
      ]
    },
    {
      "cell_type": "code",
      "execution_count": null,
      "metadata": {
        "colab": {
          "base_uri": "https://localhost:8080/"
        },
        "id": "-xPRyroPkutj",
        "outputId": "05459e3f-4e63-48f0-9dc9-b91433ee4b8e"
      },
      "outputs": [
        {
          "name": "stdout",
          "output_type": "stream",
          "text": [
            "ANIL\n",
            "anil\n"
          ]
        }
      ],
      "source": [
        "a='Anil'\n",
        "print(a.upper())\n",
        "print(a.lower())"
      ]
    },
    {
      "cell_type": "code",
      "execution_count": null,
      "metadata": {
        "colab": {
          "base_uri": "https://localhost:8080/"
        },
        "id": "tyszPRP6v9yG",
        "outputId": "b49b5239-2888-499d-e2c0-c19768eaac30"
      },
      "outputs": [
        {
          "data": {
            "text/plain": [
              "['a', 'b', 'c d']"
            ]
          },
          "execution_count": 19,
          "metadata": {},
          "output_type": "execute_result"
        }
      ],
      "source": [
        "words ='a-b-c d'\n",
        "words.split('-')"
      ]
    },
    {
      "cell_type": "code",
      "execution_count": null,
      "metadata": {
        "id": "O__Byc2K-ESD"
      },
      "outputs": [],
      "source": [
        "list & tuple"
      ]
    },
    {
      "cell_type": "code",
      "execution_count": null,
      "metadata": {
        "id": "gIXqBSBs-HEr"
      },
      "outputs": [],
      "source": [
        "d =[1,3,4.5,\"Anil\"]\n",
        "e =(1,3,4.5,\"Anil\")"
      ]
    },
    {
      "cell_type": "code",
      "execution_count": null,
      "metadata": {
        "colab": {
          "base_uri": "https://localhost:8080/"
        },
        "id": "Pqc8zRST-RSQ",
        "outputId": "8012dc97-9aa0-4ace-e52c-a419a2087633"
      },
      "outputs": [
        {
          "name": "stdout",
          "output_type": "stream",
          "text": [
            "<class 'list'>\n"
          ]
        }
      ],
      "source": [
        "print(type(d))"
      ]
    },
    {
      "cell_type": "code",
      "execution_count": null,
      "metadata": {
        "colab": {
          "base_uri": "https://localhost:8080/"
        },
        "id": "8umz2lXV-yFi",
        "outputId": "e1203b6c-807a-4f82-9a37-75db1e7ef840"
      },
      "outputs": [
        {
          "name": "stdout",
          "output_type": "stream",
          "text": [
            "<class 'tuple'>\n"
          ]
        }
      ],
      "source": [
        "print(type(e))"
      ]
    },
    {
      "cell_type": "code",
      "execution_count": null,
      "metadata": {
        "colab": {
          "base_uri": "https://localhost:8080/"
        },
        "id": "ekk0_t2OKoGG",
        "outputId": "7294bf65-4249-44d8-cb67-5c6ffe4802fa"
      },
      "outputs": [
        {
          "name": "stdout",
          "output_type": "stream",
          "text": [
            "[1, 3, 4.5, 'Anil']\n"
          ]
        }
      ],
      "source": [
        "print(d)\n"
      ]
    },
    {
      "cell_type": "code",
      "execution_count": null,
      "metadata": {
        "colab": {
          "base_uri": "https://localhost:8080/"
        },
        "id": "zZfYExN1KuhI",
        "outputId": "fbcf98bc-7000-42c8-e2d8-29115037d26f"
      },
      "outputs": [
        {
          "name": "stdout",
          "output_type": "stream",
          "text": [
            "[1, 3, 4.5]\n"
          ]
        }
      ],
      "source": [
        "print(d[0:3])"
      ]
    },
    {
      "cell_type": "code",
      "execution_count": null,
      "metadata": {
        "colab": {
          "base_uri": "https://localhost:8080/"
        },
        "id": "YH2vJUxNK7rn",
        "outputId": "48ce7dd9-35b1-4b81-e981-ab072a93c453"
      },
      "outputs": [
        {
          "data": {
            "text/plain": [
              "True"
            ]
          },
          "execution_count": 13,
          "metadata": {},
          "output_type": "execute_result"
        }
      ],
      "source": [
        "4.5 in d"
      ]
    },
    {
      "cell_type": "code",
      "execution_count": null,
      "metadata": {
        "colab": {
          "base_uri": "https://localhost:8080/"
        },
        "id": "MrqyOmfrLUs5",
        "outputId": "9aa04b9c-13f6-4a39-e71e-d794956e464f"
      },
      "outputs": [
        {
          "data": {
            "text/plain": [
              "False"
            ]
          },
          "execution_count": 29,
          "metadata": {},
          "output_type": "execute_result"
        }
      ],
      "source": [
        "'AK' in d"
      ]
    },
    {
      "cell_type": "code",
      "execution_count": null,
      "metadata": {
        "colab": {
          "base_uri": "https://localhost:8080/"
        },
        "id": "-MY9zmGpL7US",
        "outputId": "6446e9d0-b55d-48a8-ec1c-832f1d972602"
      },
      "outputs": [
        {
          "data": {
            "text/plain": [
              "3"
            ]
          },
          "execution_count": 30,
          "metadata": {},
          "output_type": "execute_result"
        }
      ],
      "source": [
        "d[1]"
      ]
    },
    {
      "cell_type": "code",
      "execution_count": null,
      "metadata": {
        "id": "JDF_OmXXNV4Q"
      },
      "outputs": [],
      "source": [
        "d[3]=\"anil\""
      ]
    },
    {
      "cell_type": "code",
      "execution_count": null,
      "metadata": {
        "colab": {
          "base_uri": "https://localhost:8080/"
        },
        "id": "dywQk7I4NixQ",
        "outputId": "42dd2979-7d50-4f4c-966e-2c275f835243"
      },
      "outputs": [
        {
          "data": {
            "text/plain": [
              "[True, 3, True, 'anil']"
            ]
          },
          "execution_count": 32,
          "metadata": {},
          "output_type": "execute_result"
        }
      ],
      "source": [
        "d"
      ]
    },
    {
      "cell_type": "code",
      "execution_count": null,
      "metadata": {
        "id": "l9gJXCOOOP1-"
      },
      "outputs": [],
      "source": [
        "d[0:3] ='anil','kumAR'"
      ]
    },
    {
      "cell_type": "code",
      "execution_count": null,
      "metadata": {
        "id": "s6U-y57kOPeV"
      },
      "outputs": [],
      "source": [
        "d=[1,2,3.5,True]"
      ]
    },
    {
      "cell_type": "code",
      "execution_count": null,
      "metadata": {
        "colab": {
          "base_uri": "https://localhost:8080/"
        },
        "id": "bWVxN5jygzKF",
        "outputId": "3eb08134-80cb-46f1-97e3-db1b9d91a5e5"
      },
      "outputs": [
        {
          "data": {
            "text/plain": [
              "[1, 2, 3.5, True]"
            ]
          },
          "execution_count": 5,
          "metadata": {},
          "output_type": "execute_result"
        }
      ],
      "source": [
        "d\n"
      ]
    },
    {
      "cell_type": "code",
      "execution_count": null,
      "metadata": {
        "id": "KwKu9kTXg8Ih"
      },
      "outputs": [],
      "source": [
        "p =[3,5,6.5,True]\n"
      ]
    },
    {
      "cell_type": "code",
      "execution_count": null,
      "metadata": {
        "id": "EIerGCybhnHr"
      },
      "outputs": [],
      "source": [
        "d.extend(p)\n"
      ]
    },
    {
      "cell_type": "code",
      "execution_count": null,
      "metadata": {
        "colab": {
          "base_uri": "https://localhost:8080/"
        },
        "id": "lEyTI_M0huUZ",
        "outputId": "4e3764ba-0bca-4f7f-8bfd-df078da02507"
      },
      "outputs": [
        {
          "data": {
            "text/plain": [
              "[1, 2, 3.5, True, 2, 3, 4.5, True, 3, 5, 6.5, True]"
            ]
          },
          "execution_count": 9,
          "metadata": {},
          "output_type": "execute_result"
        }
      ],
      "source": [
        "d"
      ]
    },
    {
      "cell_type": "code",
      "execution_count": null,
      "metadata": {
        "colab": {
          "base_uri": "https://localhost:8080/"
        },
        "id": "BeIe5U5aiPES",
        "outputId": "e65d97e8-5aa0-43b0-a0a8-73ca0a7b5323"
      },
      "outputs": [
        {
          "name": "stdout",
          "output_type": "stream",
          "text": [
            "1  2  3.5  True  2  3  4.5  True  3  5  6.5  True  "
          ]
        }
      ],
      "source": [
        "for a in d:\n",
        "  print(a,end='  ')"
      ]
    },
    {
      "cell_type": "code",
      "execution_count": null,
      "metadata": {
        "colab": {
          "base_uri": "https://localhost:8080/"
        },
        "id": "xAJgrE2D7Cxx",
        "outputId": "c08fdf9d-ef31-43c6-cc2a-33fdb779d1b1"
      },
      "outputs": [
        {
          "data": {
            "text/plain": [
              "set"
            ]
          },
          "execution_count": 2,
          "metadata": {},
          "output_type": "execute_result"
        }
      ],
      "source": [
        "\n",
        "a= {1,2,3,4.5,\"Anil\"}\n",
        "type(a)"
      ]
    },
    {
      "cell_type": "code",
      "execution_count": null,
      "metadata": {
        "colab": {
          "base_uri": "https://localhost:8080/"
        },
        "id": "Bza4aTrkFU--",
        "outputId": "8b87be77-17eb-4efd-8e82-adfd97c0ed2e"
      },
      "outputs": [
        {
          "data": {
            "text/plain": [
              "5"
            ]
          },
          "execution_count": 5,
          "metadata": {},
          "output_type": "execute_result"
        }
      ],
      "source": [
        "len(a)"
      ]
    },
    {
      "cell_type": "code",
      "execution_count": null,
      "metadata": {
        "colab": {
          "base_uri": "https://localhost:8080/"
        },
        "id": "DGq7yl_KEjZa",
        "outputId": "d49df986-808c-49ee-fad2-6de4c3c6b8bb"
      },
      "outputs": [
        {
          "name": "stdout",
          "output_type": "stream",
          "text": [
            "1\n",
            "2\n",
            "3\n",
            "4.5\n",
            "Anil\n"
          ]
        }
      ],
      "source": [
        "for x in a:\n",
        "  print(x)"
      ]
    },
    {
      "cell_type": "code",
      "execution_count": null,
      "metadata": {
        "id": "dteZ0jtPGfS1"
      },
      "outputs": [],
      "source": [
        "a.add(False)"
      ]
    },
    {
      "cell_type": "code",
      "execution_count": null,
      "metadata": {
        "colab": {
          "base_uri": "https://localhost:8080/"
        },
        "id": "2CAWlvxHGyqe",
        "outputId": "8e007712-76e2-46a7-b6f2-f1bbd5e1b068"
      },
      "outputs": [
        {
          "name": "stdout",
          "output_type": "stream",
          "text": [
            "{False, 1, 2, 3, 4.5, 'Kumar', 'Anil'}\n"
          ]
        }
      ],
      "source": [
        "print(a)"
      ]
    },
    {
      "cell_type": "code",
      "execution_count": null,
      "metadata": {
        "id": "zJe6HXAQHiXT"
      },
      "outputs": [],
      "source": [
        "a.remove(\"Kumar\")"
      ]
    },
    {
      "cell_type": "code",
      "execution_count": null,
      "metadata": {
        "colab": {
          "base_uri": "https://localhost:8080/"
        },
        "id": "bVWPMLraHr6p",
        "outputId": "601de412-4967-49c1-ad8a-956167edad39"
      },
      "outputs": [
        {
          "name": "stdout",
          "output_type": "stream",
          "text": [
            "{False, 1, 2, 3, 4.5, 'Anil'}\n"
          ]
        }
      ],
      "source": [
        "print(a)"
      ]
    },
    {
      "cell_type": "code",
      "execution_count": null,
      "metadata": {
        "colab": {
          "base_uri": "https://localhost:8080/"
        },
        "id": "zyrUK4z0HwL8",
        "outputId": "8000ad51-82a7-4637-b0db-b4106260d03e"
      },
      "outputs": [
        {
          "name": "stdout",
          "output_type": "stream",
          "text": [
            "{False, 1, 2, 3, 'Anil'}\n"
          ]
        }
      ],
      "source": [
        "a.remove(4.5)\n",
        "print(a)"
      ]
    },
    {
      "cell_type": "code",
      "execution_count": null,
      "metadata": {
        "colab": {
          "base_uri": "https://localhost:8080/"
        },
        "id": "8txDyRVBH0br",
        "outputId": "e0670103-efdb-40e9-a5f0-be29345001de"
      },
      "outputs": [
        {
          "name": "stdout",
          "output_type": "stream",
          "text": [
            "<class 'dict'>\n"
          ]
        }
      ],
      "source": [
        "b ={'name':'AK','age':13,'marks1':95.5,'marks2':99.9}\n",
        "print(type(b))"
      ]
    },
    {
      "cell_type": "code",
      "execution_count": null,
      "metadata": {
        "colab": {
          "base_uri": "https://localhost:8080/"
        },
        "id": "yDBnkAW8Nzot",
        "outputId": "b5a9e535-3bb6-42a6-bfcf-c00561eb333f"
      },
      "outputs": [
        {
          "name": "stdout",
          "output_type": "stream",
          "text": [
            "95.5\n"
          ]
        }
      ],
      "source": [
        "print(b.get('marks1'))"
      ]
    },
    {
      "cell_type": "code",
      "execution_count": null,
      "metadata": {
        "colab": {
          "base_uri": "https://localhost:8080/"
        },
        "id": "kPH2rZxxO-om",
        "outputId": "85e9360e-0c1c-4459-d637-2e39c4b0f84e"
      },
      "outputs": [
        {
          "name": "stdout",
          "output_type": "stream",
          "text": [
            "dict_keys(['name', 'age', 'marks1', 'marks2'])\n"
          ]
        }
      ],
      "source": [
        "y =b.keys()\n",
        "print(y)"
      ]
    },
    {
      "cell_type": "code",
      "execution_count": null,
      "metadata": {
        "colab": {
          "base_uri": "https://localhost:8080/"
        },
        "id": "qFm8jGi8P1LF",
        "outputId": "d12e4ed8-8b72-4619-e4f3-d0972997c8b0"
      },
      "outputs": [
        {
          "name": "stdout",
          "output_type": "stream",
          "text": [
            "AK\n",
            "13\n",
            "95.5\n",
            "99.9\n"
          ]
        }
      ],
      "source": [
        "for i in y:\n",
        "  print(b.get(i))"
      ]
    },
    {
      "cell_type": "code",
      "execution_count": null,
      "metadata": {
        "colab": {
          "base_uri": "https://localhost:8080/"
        },
        "id": "mMHCThK3QkD4",
        "outputId": "775d20a4-05f0-48ba-a3cf-3340583cdef4"
      },
      "outputs": [
        {
          "name": "stdout",
          "output_type": "stream",
          "text": [
            "dict_values(['AK', 13, 95.5, 99.9])\n"
          ]
        }
      ],
      "source": [
        "x=b.values()\n",
        "print(x)"
      ]
    },
    {
      "cell_type": "code",
      "execution_count": null,
      "metadata": {
        "colab": {
          "base_uri": "https://localhost:8080/"
        },
        "id": "aclufsGmQwDm",
        "outputId": "54b3298f-f7b6-431a-e54c-725cdf6f27f5"
      },
      "outputs": [
        {
          "name": "stdout",
          "output_type": "stream",
          "text": [
            "dict_items([('name', 'AK'), ('age', 13), ('marks1', 95.5), ('marks2', 99.9)])\n"
          ]
        }
      ],
      "source": [
        "z = b.items()\n",
        "print(z)"
      ]
    },
    {
      "cell_type": "code",
      "execution_count": null,
      "metadata": {
        "colab": {
          "base_uri": "https://localhost:8080/"
        },
        "id": "L7wFZu0qSHDk",
        "outputId": "90525e61-807f-4993-9f28-20413a403f76"
      },
      "outputs": [
        {
          "data": {
            "text/plain": [
              "True"
            ]
          },
          "execution_count": 46,
          "metadata": {},
          "output_type": "execute_result"
        }
      ],
      "source": [
        "'marks1' in b"
      ]
    },
    {
      "cell_type": "code",
      "execution_count": null,
      "metadata": {
        "colab": {
          "base_uri": "https://localhost:8080/"
        },
        "id": "xG-lciLbSOQj",
        "outputId": "2ba25efe-0b77-4aff-f7d9-f14352ff2eea"
      },
      "outputs": [
        {
          "data": {
            "text/plain": [
              "True"
            ]
          },
          "execution_count": 47,
          "metadata": {},
          "output_type": "execute_result"
        }
      ],
      "source": [
        "'name' in b"
      ]
    },
    {
      "cell_type": "code",
      "execution_count": null,
      "metadata": {
        "colab": {
          "base_uri": "https://localhost:8080/"
        },
        "id": "TgkkkAWqSWlt",
        "outputId": "c4131211-9d7a-4490-d128-5501963bbc1f"
      },
      "outputs": [
        {
          "data": {
            "text/plain": [
              "False"
            ]
          },
          "execution_count": 49,
          "metadata": {},
          "output_type": "execute_result"
        }
      ],
      "source": [
        "'hobbies' in b"
      ]
    },
    {
      "cell_type": "code",
      "execution_count": null,
      "metadata": {
        "id": "ajVlRpIESh3A"
      },
      "outputs": [],
      "source": [
        "b.update({'age':10})\n"
      ]
    },
    {
      "cell_type": "code",
      "execution_count": null,
      "metadata": {
        "colab": {
          "base_uri": "https://localhost:8080/"
        },
        "id": "jcKbONUHTE3J",
        "outputId": "d428a989-9c51-4932-fbb6-8e7d07f15030"
      },
      "outputs": [
        {
          "data": {
            "text/plain": [
              "dict_values(['AK', 10, 95.5, 99.9])"
            ]
          },
          "execution_count": 53,
          "metadata": {},
          "output_type": "execute_result"
        }
      ],
      "source": [
        "b.values()"
      ]
    },
    {
      "cell_type": "code",
      "execution_count": null,
      "metadata": {
        "id": "QyJ_yI62TqDJ"
      },
      "outputs": [],
      "source": [
        "b['hobbies'] =['playing/watching cricker','playing pubg']\n"
      ]
    },
    {
      "cell_type": "code",
      "execution_count": null,
      "metadata": {
        "colab": {
          "base_uri": "https://localhost:8080/"
        },
        "id": "zSdw7ZuCUSvi",
        "outputId": "0158229a-079c-4ebd-f894-92a5f4b94687"
      },
      "outputs": [
        {
          "data": {
            "text/plain": [
              "{'name': 'AK',\n",
              " 'age': 10,\n",
              " 'marks1': 95.5,\n",
              " 'marks2': 99.9,\n",
              " 'hobbies': ['playing/watching cricker', 'playing pubg']}"
            ]
          },
          "execution_count": 64,
          "metadata": {},
          "output_type": "execute_result"
        }
      ],
      "source": [
        "b"
      ]
    },
    {
      "cell_type": "code",
      "execution_count": null,
      "metadata": {
        "colab": {
          "base_uri": "https://localhost:8080/"
        },
        "id": "INeAUyXzVoOt",
        "outputId": "844b64fe-af73-4743-947a-191c4ff95561"
      },
      "outputs": [
        {
          "data": {
            "text/plain": [
              "list"
            ]
          },
          "execution_count": 65,
          "metadata": {},
          "output_type": "execute_result"
        }
      ],
      "source": [
        "type(b.get('hobbies'))"
      ]
    },
    {
      "cell_type": "code",
      "execution_count": null,
      "metadata": {
        "colab": {
          "base_uri": "https://localhost:8080/"
        },
        "id": "8_AHTnvfXeB8",
        "outputId": "71d240ff-8557-4254-ade0-1f474d875662"
      },
      "outputs": [
        {
          "data": {
            "text/plain": [
              "{'name': 'AK', 'age': 10, 'marks1': 95.5, 'marks2': 99.9}"
            ]
          },
          "execution_count": 66,
          "metadata": {},
          "output_type": "execute_result"
        }
      ],
      "source": [
        "b.pop('hobbies')\n",
        "b"
      ]
    },
    {
      "cell_type": "code",
      "execution_count": null,
      "metadata": {
        "id": "AAX7yIaIHjU3"
      },
      "outputs": [],
      "source": [
        "Functons"
      ]
    },
    {
      "cell_type": "code",
      "execution_count": null,
      "metadata": {
        "id": "30dJXDnNHlDQ"
      },
      "outputs": [],
      "source": [
        "def sayHello():\n",
        "  print(\"Anil\")\n",
        "  print(\"kumar\")\n",
        "  print(\"namaskarm\")"
      ]
    },
    {
      "cell_type": "code",
      "execution_count": null,
      "metadata": {
        "colab": {
          "base_uri": "https://localhost:8080/"
        },
        "id": "j_VypJ4-HxF7",
        "outputId": "03f8cc3c-49cc-43f0-ea21-e369558af730"
      },
      "outputs": [
        {
          "name": "stdout",
          "output_type": "stream",
          "text": [
            "Anil\n",
            "kumar\n",
            "namaskarm\n"
          ]
        }
      ],
      "source": [
        "sayHello()"
      ]
    },
    {
      "cell_type": "code",
      "execution_count": null,
      "metadata": {
        "id": "usvteGO-Jh-Z"
      },
      "outputs": [],
      "source": [
        "def add(a,b):\n",
        "  print(a+b)\n",
        "  print(c+d)\n"
      ]
    },
    {
      "cell_type": "code",
      "execution_count": null,
      "metadata": {
        "colab": {
          "base_uri": "https://localhost:8080/"
        },
        "id": "1ghL2BwXJtp7",
        "outputId": "b1c479c6-a19c-4cf1-8aed-e965a4aca9a9"
      },
      "outputs": [
        {
          "name": "stdout",
          "output_type": "stream",
          "text": [
            "6\n",
            "6\n"
          ]
        }
      ],
      "source": [
        "add(3,3)\n",
        "add(2,4)"
      ]
    },
    {
      "cell_type": "code",
      "execution_count": null,
      "metadata": {
        "id": "-4xv8GBEKd9U"
      },
      "outputs": [],
      "source": [
        "def sub(x,y):\n",
        "  print(x-y)\n",
        "\n"
      ]
    },
    {
      "cell_type": "code",
      "execution_count": null,
      "metadata": {
        "colab": {
          "base_uri": "https://localhost:8080/"
        },
        "id": "wUO6QfN9KmiL",
        "outputId": "30b7e37c-c9e8-4ae4-feab-7e8891565e8f"
      },
      "outputs": [
        {
          "name": "stdout",
          "output_type": "stream",
          "text": [
            "2\n"
          ]
        }
      ],
      "source": [
        "sub(5,3)\n"
      ]
    },
    {
      "cell_type": "code",
      "execution_count": null,
      "metadata": {
        "id": "d5UV9EOhPtS7"
      },
      "outputs": [],
      "source": [
        "def sayHi(name):\n",
        "  \"\"\"\n",
        "  This is My First Programe\n",
        "  \"\"\"\n",
        "  print(\"Hi\",name)"
      ]
    },
    {
      "cell_type": "code",
      "execution_count": null,
      "metadata": {
        "colab": {
          "base_uri": "https://localhost:8080/"
        },
        "id": "nTkI21fIP7lA",
        "outputId": "1fa24fb9-96a1-4731-d777-91db743e5d48"
      },
      "outputs": [
        {
          "name": "stdout",
          "output_type": "stream",
          "text": [
            "Hi Anil Kumar\n"
          ]
        }
      ],
      "source": [
        "sayHi(\"Anil Kumar\")"
      ]
    },
    {
      "cell_type": "code",
      "execution_count": null,
      "metadata": {
        "colab": {
          "base_uri": "https://localhost:8080/"
        },
        "id": "QZTisE3IQAy3",
        "outputId": "e4e0a653-a1da-466f-d4b6-7c754545c4c3"
      },
      "outputs": [
        {
          "name": "stdout",
          "output_type": "stream",
          "text": [
            "\n",
            "  This is My First Programe\n",
            "  \n"
          ]
        }
      ],
      "source": [
        "print(sayHi.__doc__)"
      ]
    },
    {
      "cell_type": "code",
      "execution_count": null,
      "metadata": {
        "colab": {
          "base_uri": "https://localhost:8080/"
        },
        "id": "wuKnjko71Rgi",
        "outputId": "fd52e60a-3a20-40c2-f743-126803787985"
      },
      "outputs": [
        {
          "name": "stdout",
          "output_type": "stream",
          "text": [
            "35\n"
          ]
        }
      ],
      "source": [
        "def func(a):\n",
        "    a = a + 10\n",
        "    return a\n",
        "\n",
        "#Driver's code\n",
        "a = 35\n",
        "func(a)\n",
        "print(a)"
      ]
    },
    {
      "cell_type": "code",
      "execution_count": null,
      "metadata": {
        "colab": {
          "base_uri": "https://localhost:8080/"
        },
        "id": "AciI6CUZ2oug",
        "outputId": "fabc357a-a32c-47fe-dbc9-2bf59b0a4d22"
      },
      "outputs": [
        {
          "name": "stdout",
          "output_type": "stream",
          "text": [
            "16\n"
          ]
        }
      ],
      "source": [
        "def square(a):\n",
        "    ans = a * a\n",
        "    return ans\n",
        "\n",
        "#Driver's code\n",
        "a = 4\n",
        "a = square(a)\n",
        "print(a)"
      ]
    },
    {
      "cell_type": "code",
      "execution_count": null,
      "metadata": {
        "colab": {
          "base_uri": "https://localhost:8080/"
        },
        "id": "RjDPwRG-4XnG",
        "outputId": "265aa1ef-b9b4-4669-b096-76a4c6e0abca"
      },
      "outputs": [
        {
          "name": "stdout",
          "output_type": "stream",
          "text": [
            "120\n"
          ]
        }
      ],
      "source": [
        "def findsum(*args):\n",
        "\n",
        "    sm = 1\n",
        "    for i in args:\n",
        "        sm *= i\n",
        "    return sm\n",
        "\n",
        "#Driver's code\n",
        "z = findsum(1,2,3,4,5)\n",
        "print(z)"
      ]
    },
    {
      "cell_type": "code",
      "execution_count": null,
      "metadata": {
        "colab": {
          "base_uri": "https://localhost:8080/"
        },
        "id": "Tf_u-ljdma2f",
        "outputId": "a4840966-9e73-4644-b07b-4522bb7f179d"
      },
      "outputs": [
        {
          "name": "stdout",
          "output_type": "stream",
          "text": [
            "anil\n",
            "23\n",
            "The name of the person is anil and the age is 23 .\n"
          ]
        }
      ],
      "source": [
        "class Person:\n",
        "    def __init__(self, name, age):\n",
        "        self.name = name\n",
        "        self.age = age\n",
        "    def GetValue(self):\n",
        "      print(\"The name of the person is\",self.name,\"and the age is\",self.age,\".\",sep=\" \")\n",
        "\n",
        "name= input()\n",
        "age =int(input())\n",
        "P1=Person(name,age)\n",
        "P1.GetValue()\n"
      ]
    },
    {
      "cell_type": "code",
      "execution_count": null,
      "metadata": {
        "colab": {
          "base_uri": "https://localhost:8080/"
        },
        "id": "djGM7QquUV8Z",
        "outputId": "9e500e61-65ed-4136-a019-81b0491eaabf"
      },
      "outputs": [
        {
          "name": "stdout",
          "output_type": "stream",
          "text": [
            "The name of the Person is anil and the age is 22 and he is from .  Anathapur\n",
            "The name of the Person is AK and the age is 20 and he is from .  Anathapur\n",
            "The name of the Person is Kumar and the age is 15 and he is from .  Anathapur\n"
          ]
        }
      ],
      "source": [
        "class Person:\n",
        "    city =\" Anathapur\"\n",
        "    def __init__(self, name, age):\n",
        "        self.name = name\n",
        "        self.age = age\n",
        "    def GetValue(self):\n",
        "      print(\"The name of the Person is\",self.name,\"and the age is\",self.age,\"and he is from\",\".\",Person.city,sep=\" \")\n",
        "\n",
        "\n",
        "P1=Person(\"anil\",22)\n",
        "P1.GetValue()\n",
        "\n",
        "P2=Person(\"AK\",20)\n",
        "P2.GetValue()\n",
        "\n",
        "P3 =Person(\"Kumar\",15)\n",
        "P3.GetValue()\n"
      ]
    },
    {
      "cell_type": "code",
      "execution_count": null,
      "metadata": {
        "colab": {
          "base_uri": "https://localhost:8080/"
        },
        "id": "qjtxbUCMdU1a",
        "outputId": "fcc193b9-5acc-4c0b-da8d-56cc4872d362"
      },
      "outputs": [
        {
          "name": "stdout",
          "output_type": "stream",
          "text": [
            "The name of the person is Anil and the age is 20 .\n",
            "Hello\n",
            "The name of the person is AK and the age is 22 .\n",
            "Hello\n",
            "hello hyy\n"
          ]
        }
      ],
      "source": [
        "class Person:\n",
        "  def __init__(self,name,age):\n",
        "    self.name=name\n",
        "    self.age=age\n",
        "  @staticmethod\n",
        "  def Hello():\n",
        "    print(\"Hello\")\n",
        "\n",
        "\n",
        "  def GetValue(self):\n",
        "    print(\"The name of the person is\",self.name,\"and the age is\",self.age,\".\",sep=\" \")\n",
        "\n",
        "P1 =Person(\"Anil\",20)\n",
        "P1.GetValue()\n",
        "P1.Hello()\n",
        "\n",
        "P2 =Person(\"AK\",22)\n",
        "P2.GetValue()\n",
        "P2.Hello()\n",
        "print(\"hello hyy\")\n"
      ]
    },
    {
      "cell_type": "code",
      "execution_count": null,
      "metadata": {
        "colab": {
          "base_uri": "https://localhost:8080/",
          "height": 211
        },
        "id": "FPewtH0hlT0M",
        "outputId": "b5e3bf19-bd84-4f77-8ea7-4635f9cb62ec"
      },
      "outputs": [
        {
          "name": "stdout",
          "output_type": "stream",
          "text": [
            "Anil\n"
          ]
        },
        {
          "ename": "AttributeError",
          "evalue": "'Person' object has no attribute '__name'",
          "output_type": "error",
          "traceback": [
            "\u001b[0;31m---------------------------------------------------------------------------\u001b[0m",
            "\u001b[0;31mAttributeError\u001b[0m                            Traceback (most recent call last)",
            "\u001b[0;32m<ipython-input-10-1a639f431986>\u001b[0m in \u001b[0;36m<cell line: 13>\u001b[0;34m()\u001b[0m\n\u001b[1;32m     11\u001b[0m \u001b[0mP1\u001b[0m\u001b[0;34m.\u001b[0m\u001b[0mGetValue\u001b[0m\u001b[0;34m(\u001b[0m\u001b[0;34m)\u001b[0m\u001b[0;34m\u001b[0m\u001b[0;34m\u001b[0m\u001b[0m\n\u001b[1;32m     12\u001b[0m \u001b[0;31m# method 2 of accessing data\u001b[0m\u001b[0;34m\u001b[0m\u001b[0;34m\u001b[0m\u001b[0m\n\u001b[0;32m---> 13\u001b[0;31m \u001b[0mprint\u001b[0m\u001b[0;34m(\u001b[0m\u001b[0mP1\u001b[0m\u001b[0;34m.\u001b[0m\u001b[0m__name\u001b[0m\u001b[0;34m)\u001b[0m\u001b[0;34m\u001b[0m\u001b[0;34m\u001b[0m\u001b[0m\n\u001b[0m\u001b[1;32m     14\u001b[0m \u001b[0;31m# using inheritance\u001b[0m\u001b[0;34m\u001b[0m\u001b[0;34m\u001b[0m\u001b[0m\n",
            "\u001b[0;31mAttributeError\u001b[0m: 'Person' object has no attribute '__name'"
          ]
        }
      ],
      "source": [
        "class Person:\n",
        "    def __init__(self, name, age):\n",
        "        self.__name =name\n",
        "        self.age = age\n",
        "    def GetValue(self):\n",
        "      print(self.__name)\n",
        "\n",
        "\n",
        "P1=Person(\"Anil\",22)\n",
        "#method 1 of accessing data\n",
        "P1.GetValue()\n",
        "# method 2 of accessing data\n",
        "print(P1.__name)\n",
        "# using inheritance\n"
      ]
    },
    {
      "cell_type": "code",
      "execution_count": null,
      "metadata": {
        "id": "EAumkbrVDoV0"
      },
      "outputs": [],
      "source": [
        "class Person:\n",
        "  age =20\n",
        "  def walk(self):\n",
        "    print(\"iam walking\")"
      ]
    },
    {
      "cell_type": "code",
      "execution_count": null,
      "metadata": {
        "id": "ve3TQW38EIOr"
      },
      "outputs": [],
      "source": [
        "class Student(Person):\n",
        "  rno=16\n",
        "  def Study(self):\n",
        "    print(\"iam studing\")"
      ]
    },
    {
      "cell_type": "code",
      "execution_count": null,
      "metadata": {
        "id": "wuvxJ74zEoIZ"
      },
      "outputs": [],
      "source": [
        "s1=Student()"
      ]
    },
    {
      "cell_type": "code",
      "execution_count": null,
      "metadata": {
        "colab": {
          "base_uri": "https://localhost:8080/"
        },
        "id": "olR5ZzGKEtEh",
        "outputId": "25fe507c-a814-4f21-cd36-4bfe74652c91"
      },
      "outputs": [
        {
          "name": "stdout",
          "output_type": "stream",
          "text": [
            "iam studing\n"
          ]
        }
      ],
      "source": [
        "s1.Study()"
      ]
    },
    {
      "cell_type": "code",
      "execution_count": null,
      "metadata": {
        "colab": {
          "base_uri": "https://localhost:8080/"
        },
        "id": "y2ptGwX5FhU5",
        "outputId": "2ba30450-a928-4aba-a9b4-6ffbc758fd29"
      },
      "outputs": [
        {
          "name": "stdout",
          "output_type": "stream",
          "text": [
            "iam walking\n"
          ]
        }
      ],
      "source": [
        "s1.walk()"
      ]
    },
    {
      "cell_type": "code",
      "execution_count": null,
      "metadata": {
        "id": "Ri7XrBisFljb"
      },
      "outputs": [],
      "source": [
        "#polimorphism\n",
        "a=2\n",
        "b=5\n",
        "c=\"Anil\"\n",
        "d=\"kumar\""
      ]
    },
    {
      "cell_type": "code",
      "execution_count": null,
      "metadata": {
        "colab": {
          "base_uri": "https://localhost:8080/"
        },
        "id": "loywWVz2fcwX",
        "outputId": "cc8a262d-16b3-4ca3-e4c9-04b4a7be5e0b"
      },
      "outputs": [
        {
          "name": "stdout",
          "output_type": "stream",
          "text": [
            "7\n"
          ]
        }
      ],
      "source": [
        "print(a+b)\n",
        "#these are addition Formate"
      ]
    },
    {
      "cell_type": "code",
      "execution_count": null,
      "metadata": {
        "colab": {
          "base_uri": "https://localhost:8080/"
        },
        "id": "Hq6rF3-nfrv9",
        "outputId": "1ad981e6-5d62-41a1-d39d-538ef0080e80"
      },
      "outputs": [
        {
          "name": "stdout",
          "output_type": "stream",
          "text": [
            "Anilkumar\n"
          ]
        }
      ],
      "source": [
        "print(c+d)\n",
        "# here concate formate"
      ]
    },
    {
      "cell_type": "code",
      "execution_count": null,
      "metadata": {
        "colab": {
          "base_uri": "https://localhost:8080/"
        },
        "id": "3VMIfCpWfwsH",
        "outputId": "8330cbe7-a9b2-4bce-8e35-628f0c84b66e"
      },
      "outputs": [
        {
          "name": "stdout",
          "output_type": "stream",
          "text": [
            "4\n"
          ]
        }
      ],
      "source": [
        "print(len(\"Anil\"))\n",
        "#there are count in string function"
      ]
    },
    {
      "cell_type": "code",
      "execution_count": null,
      "metadata": {
        "colab": {
          "base_uri": "https://localhost:8080/"
        },
        "id": "oUYdqlaggDNM",
        "outputId": "f5cdb95e-3ae7-4650-ef95-fe1a522b8416"
      },
      "outputs": [
        {
          "name": "stdout",
          "output_type": "stream",
          "text": [
            "5\n"
          ]
        }
      ],
      "source": [
        "print(len([1,2,3,\"Anil\",\"kumar\"]))\n",
        "# there are no.of elements count in list"
      ]
    },
    {
      "cell_type": "code",
      "execution_count": null,
      "metadata": {
        "id": "u4s_YLRFhzxy"
      },
      "outputs": [],
      "source": [
        "def mul(a,b,c=1,d=1):\n",
        "  print(a+b+c+d)"
      ]
    },
    {
      "cell_type": "code",
      "execution_count": null,
      "metadata": {
        "colab": {
          "base_uri": "https://localhost:8080/"
        },
        "id": "xYoPhuuTliIb",
        "outputId": "571d6cda-4013-4b3c-cfce-fec9ef23893f"
      },
      "outputs": [
        {
          "name": "stdout",
          "output_type": "stream",
          "text": [
            "7\n"
          ]
        }
      ],
      "source": [
        "mul(2,3)"
      ]
    },
    {
      "cell_type": "code",
      "execution_count": null,
      "metadata": {
        "colab": {
          "background_save": true
        },
        "id": "_LutFPjql2xT"
      },
      "outputs": [],
      "source": [
        "def mul(a,b,c=1,d=1,):\n",
        "  print(a*b*c*d)"
      ]
    },
    {
      "cell_type": "code",
      "execution_count": null,
      "metadata": {
        "id": "vIC-02w8m8pf"
      },
      "outputs": [],
      "source": [
        "mul(2,3,)"
      ]
    },
    {
      "cell_type": "code",
      "source": [
        "#Exception handiling\n",
        "l =[1,2,3,4]\n",
        "print(\"provide the index to be printed\")\n",
        "i = int(input())\n",
        "print(l[i])\n"
      ],
      "metadata": {
        "colab": {
          "base_uri": "https://localhost:8080/"
        },
        "id": "W_AFvJVlEMUz",
        "outputId": "948e4162-a972-4bd9-a0d8-a332f63bdb6f"
      },
      "execution_count": null,
      "outputs": [
        {
          "output_type": "stream",
          "name": "stdout",
          "text": [
            "provide the index to be printed\n",
            "3\n",
            "4\n"
          ]
        }
      ]
    },
    {
      "cell_type": "code",
      "source": [
        "\n",
        "l =[1,2,3,4]\n",
        "print(\"provide the index to be printed\")\n",
        "i = int(input())\n",
        "try:\n",
        "  c=5/i\n",
        "  print(l[i])\n",
        "except ZeroDivisionError as e:\n",
        "  print(\"Zero can't be divide\")\n",
        "\n",
        "except Exception as e:\n",
        "  print(\"there is a run-time error\")\n",
        "finally:\n",
        "  print(\"iam inside a family\")\n",
        "  print(\"bye\")\n"
      ],
      "metadata": {
        "colab": {
          "base_uri": "https://localhost:8080/"
        },
        "id": "tPeLv0afLCpT",
        "outputId": "c30e1d2d-63d0-4178-9b45-0159ab1e85b0"
      },
      "execution_count": null,
      "outputs": [
        {
          "output_type": "stream",
          "name": "stdout",
          "text": [
            "provide the index to be printed\n",
            "12\n",
            "there is a run-time error\n",
            "iam inside a family\n",
            "bye\n"
          ]
        }
      ]
    },
    {
      "cell_type": "code",
      "source": [
        "# here coming run-time coming\n",
        "try:\n",
        "  a =10\n",
        "  b =0\n",
        "  c =a/b\n",
        "except ValueError:\n",
        "  print(\"Exception Occured\")\n"
      ],
      "metadata": {
        "colab": {
          "base_uri": "https://localhost:8080/",
          "height": 211
        },
        "id": "pqUcBMdzMELN",
        "outputId": "26dd7643-4429-46db-e6ce-c5bd9fb01901"
      },
      "execution_count": null,
      "outputs": [
        {
          "output_type": "error",
          "ename": "ZeroDivisionError",
          "evalue": "division by zero",
          "traceback": [
            "\u001b[0;31m---------------------------------------------------------------------------\u001b[0m",
            "\u001b[0;31mZeroDivisionError\u001b[0m                         Traceback (most recent call last)",
            "\u001b[0;32m<ipython-input-2-82f47b44f983>\u001b[0m in \u001b[0;36m<cell line: 1>\u001b[0;34m()\u001b[0m\n\u001b[1;32m      2\u001b[0m   \u001b[0ma\u001b[0m \u001b[0;34m=\u001b[0m\u001b[0;36m10\u001b[0m\u001b[0;34m\u001b[0m\u001b[0;34m\u001b[0m\u001b[0m\n\u001b[1;32m      3\u001b[0m   \u001b[0mb\u001b[0m \u001b[0;34m=\u001b[0m\u001b[0;36m0\u001b[0m\u001b[0;34m\u001b[0m\u001b[0;34m\u001b[0m\u001b[0m\n\u001b[0;32m----> 4\u001b[0;31m   \u001b[0mc\u001b[0m \u001b[0;34m=\u001b[0m\u001b[0ma\u001b[0m\u001b[0;34m/\u001b[0m\u001b[0mb\u001b[0m\u001b[0;34m\u001b[0m\u001b[0;34m\u001b[0m\u001b[0m\n\u001b[0m\u001b[1;32m      5\u001b[0m \u001b[0;32mexcept\u001b[0m \u001b[0mValueError\u001b[0m\u001b[0;34m:\u001b[0m\u001b[0;34m\u001b[0m\u001b[0;34m\u001b[0m\u001b[0m\n\u001b[1;32m      6\u001b[0m   \u001b[0mprint\u001b[0m\u001b[0;34m(\u001b[0m\u001b[0;34m\"Exception Occured\"\u001b[0m\u001b[0;34m)\u001b[0m\u001b[0;34m\u001b[0m\u001b[0;34m\u001b[0m\u001b[0m\n",
            "\u001b[0;31mZeroDivisionError\u001b[0m: division by zero"
          ]
        }
      ]
    },
    {
      "cell_type": "code",
      "source": [
        "try:\n",
        "  a =10\n",
        "  b =0\n",
        "  c =a/b\n",
        "  print(c)\n",
        "except ZeroDivisionError:\n",
        "  print(\"Exception Occured\")\n"
      ],
      "metadata": {
        "colab": {
          "base_uri": "https://localhost:8080/"
        },
        "id": "FS7EnOhwM_dD",
        "outputId": "d703155c-482f-4f93-af69-28ef4fab5918"
      },
      "execution_count": null,
      "outputs": [
        {
          "output_type": "stream",
          "name": "stdout",
          "text": [
            "Exception Occured\n"
          ]
        }
      ]
    },
    {
      "cell_type": "code",
      "source": [
        "# Parent class\n",
        "from abc import ABC, abstractmethod\n",
        "\n",
        "class Vehicle(ABC):\n",
        "  @abstractmethod\n",
        "  def start(self):\n",
        "    pass"
      ],
      "metadata": {
        "id": "9Xmbds9ffA1O"
      },
      "execution_count": 23,
      "outputs": []
    },
    {
      "cell_type": "code",
      "source": [
        "v =Vehicle()"
      ],
      "metadata": {
        "colab": {
          "base_uri": "https://localhost:8080/",
          "height": 141
        },
        "id": "EcbAzv5zljUc",
        "outputId": "e5ffb487-267c-42b2-ecb7-f0e8756827f9"
      },
      "execution_count": 31,
      "outputs": [
        {
          "output_type": "error",
          "ename": "TypeError",
          "evalue": "Can't instantiate abstract class Vehicle with abstract method start",
          "traceback": [
            "\u001b[0;31m---------------------------------------------------------------------------\u001b[0m",
            "\u001b[0;31mTypeError\u001b[0m                                 Traceback (most recent call last)",
            "\u001b[0;32m<ipython-input-31-2461d7d74bf1>\u001b[0m in \u001b[0;36m<cell line: 1>\u001b[0;34m()\u001b[0m\n\u001b[0;32m----> 1\u001b[0;31m \u001b[0mv\u001b[0m \u001b[0;34m=\u001b[0m\u001b[0mVehicle\u001b[0m\u001b[0;34m(\u001b[0m\u001b[0;34m)\u001b[0m\u001b[0;34m\u001b[0m\u001b[0;34m\u001b[0m\u001b[0m\n\u001b[0m",
            "\u001b[0;31mTypeError\u001b[0m: Can't instantiate abstract class Vehicle with abstract method start"
          ]
        }
      ]
    },
    {
      "cell_type": "code",
      "source": [
        "# Child class\n",
        "class Car(Vehicle):\n",
        "  def horn(self):\n",
        "    print(\"Horning..\")\n",
        "  def start(self):\n",
        "    print(\"Starting..\")\n"
      ],
      "metadata": {
        "id": "C-1BCatfjlBK"
      },
      "execution_count": 36,
      "outputs": []
    },
    {
      "cell_type": "code",
      "source": [
        "c = Car()"
      ],
      "metadata": {
        "id": "X4Q2wRc1l1h9"
      },
      "execution_count": 37,
      "outputs": []
    },
    {
      "cell_type": "code",
      "source": [
        "c.start()\n",
        "c.horn()"
      ],
      "metadata": {
        "colab": {
          "base_uri": "https://localhost:8080/"
        },
        "id": "B8eIx-SnmUAQ",
        "outputId": "dbc8ec51-5620-4e4d-e643-96ba59e1ac54"
      },
      "execution_count": 40,
      "outputs": [
        {
          "output_type": "stream",
          "name": "stdout",
          "text": [
            "Starting..\n",
            "Horning..\n"
          ]
        }
      ]
    }
  ],
  "metadata": {
    "colab": {
      "provenance": [],
      "authorship_tag": "ABX9TyNqlvQYLTmNvYU2yMFozkdp",
      "include_colab_link": true
    },
    "kernelspec": {
      "display_name": "Python 3",
      "name": "python3"
    },
    "language_info": {
      "name": "python"
    }
  },
  "nbformat": 4,
  "nbformat_minor": 0
}