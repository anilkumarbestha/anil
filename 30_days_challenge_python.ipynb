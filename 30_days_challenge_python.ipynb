{
  "cells": [
    {
      "cell_type": "markdown",
      "metadata": {
        "id": "view-in-github",
        "colab_type": "text"
      },
      "source": [
        "<a href=\"https://colab.research.google.com/github/anilkumarbestha/anil/blob/main/30_days_challenge_python.ipynb\" target=\"_parent\"><img src=\"https://colab.research.google.com/assets/colab-badge.svg\" alt=\"Open In Colab\"/></a>"
      ]
    },
    {
      "cell_type": "code",
      "execution_count": null,
      "metadata": {
        "colab": {
          "base_uri": "https://localhost:8080/"
        },
        "id": "HKbkJuFlIsY1",
        "outputId": "e78387b9-d05a-4969-96cb-3eed10d51703"
      },
      "outputs": [
        {
          "name": "stdout",
          "output_type": "stream",
          "text": [
            "anil kumar kumar dileep kumar nanaku prematho\n"
          ]
        }
      ],
      "source": [
        "print(\"anil\",end=' ')\n",
        "print('kumar','kumar',end=' ')\n",
        "print('dileep','kumar',end=' ')\n",
        "print('nanaku','prematho')"
      ]
    },
    {
      "cell_type": "code",
      "execution_count": null,
      "metadata": {
        "colab": {
          "base_uri": "https://localhost:8080/"
        },
        "id": "4WPOYwJ5VxXe",
        "outputId": "3ec341f1-cc2e-4e55-ed29-f52fb7d87ca9"
      },
      "outputs": [
        {
          "name": "stdout",
          "output_type": "stream",
          "text": [
            "3 4.4 "
          ]
        }
      ],
      "source": [
        " a =3\n",
        " b= 4.4\n",
        " print(a,b ,end=' ')"
      ]
    },
    {
      "cell_type": "code",
      "execution_count": null,
      "metadata": {
        "colab": {
          "base_uri": "https://localhost:8080/"
        },
        "id": "oyQM-QVPdAzG",
        "outputId": "b9712028-9c06-47ac-9c05-2abb5834ece6"
      },
      "outputs": [
        {
          "name": "stdout",
          "output_type": "stream",
          "text": [
            "10\n"
          ]
        }
      ],
      "source": [
        "a=input()"
      ]
    },
    {
      "cell_type": "code",
      "execution_count": null,
      "metadata": {
        "colab": {
          "base_uri": "https://localhost:8080/"
        },
        "id": "M4eUio4SdFpJ",
        "outputId": "d72da605-6f03-4b70-ad74-4c82b8742bf5"
      },
      "outputs": [
        {
          "name": "stdout",
          "output_type": "stream",
          "text": [
            "10\n"
          ]
        }
      ],
      "source": [
        "print(a)"
      ]
    },
    {
      "cell_type": "code",
      "execution_count": null,
      "metadata": {
        "colab": {
          "base_uri": "https://localhost:8080/"
        },
        "id": "LdgblWHPdRr-",
        "outputId": "5bed3b19-207c-4d02-d645-e110d4a32cdf"
      },
      "outputs": [
        {
          "name": "stdout",
          "output_type": "stream",
          "text": [
            "enter a first number =4\n",
            "enter a second number =5\n"
          ]
        }
      ],
      "source": [
        "number1=input('enter a first number =')\n",
        "number2=input('enter a second number =')"
      ]
    },
    {
      "cell_type": "code",
      "execution_count": null,
      "metadata": {
        "colab": {
          "base_uri": "https://localhost:8080/"
        },
        "id": "s7NwAI3beYKn",
        "outputId": "64dda975-9a61-4596-ec15-bd52220def7a"
      },
      "outputs": [
        {
          "name": "stdout",
          "output_type": "stream",
          "text": [
            "45\n"
          ]
        }
      ],
      "source": [
        "print(number1+number2)"
      ]
    },
    {
      "cell_type": "code",
      "execution_count": null,
      "metadata": {
        "colab": {
          "base_uri": "https://localhost:8080/"
        },
        "id": "QGoQjkNlejrr",
        "outputId": "5dae870f-1774-4254-d884-53a27afd0bd8"
      },
      "outputs": [
        {
          "name": "stdout",
          "output_type": "stream",
          "text": [
            "4\n",
            "5\n"
          ]
        }
      ],
      "source": [
        "print(number1,number2,sep=\"\\n\")"
      ]
    },
    {
      "cell_type": "code",
      "execution_count": null,
      "metadata": {
        "colab": {
          "base_uri": "https://localhost:8080/"
        },
        "id": "pVf58dd_ftn5",
        "outputId": "8a7e4717-118b-49fd-a812-07c93bba3bf7"
      },
      "outputs": [
        {
          "name": "stdout",
          "output_type": "stream",
          "text": [
            "45\n"
          ]
        }
      ],
      "source": [
        "print(number1+number2)"
      ]
    },
    {
      "cell_type": "code",
      "execution_count": null,
      "metadata": {
        "colab": {
          "base_uri": "https://localhost:8080/"
        },
        "id": "xZcALtQKhgPh",
        "outputId": "f38a7e47-7ac6-4989-9e5f-0d8f99e2bf18"
      },
      "outputs": [
        {
          "name": "stdout",
          "output_type": "stream",
          "text": [
            "Anil kumar\n",
            "ayz\n"
          ]
        }
      ],
      "source": [
        "a =\"Anil\"\n",
        "b =\" \"\n",
        "c =\"kumar\"\n",
        "d=a+b+c\n",
        "print(d)\n",
        "x=\"a\"+\"yz\"\n",
        "print(x)"
      ]
    },
    {
      "cell_type": "code",
      "execution_count": null,
      "metadata": {
        "colab": {
          "base_uri": "https://localhost:8080/"
        },
        "id": "QUmKebeslMDq",
        "outputId": "584b2c20-fea7-4d40-f734-a38627d04cbd"
      },
      "outputs": [
        {
          "name": "stdout",
          "output_type": "stream",
          "text": [
            "9\n"
          ]
        }
      ],
      "source": [
        "number1 =int(number1)\n",
        "number2=int(number2)\n",
        "value=(number1+number2)\n",
        "print(value)"
      ]
    },
    {
      "cell_type": "code",
      "execution_count": null,
      "metadata": {
        "colab": {
          "base_uri": "https://localhost:8080/"
        },
        "id": "eRbB-3a_nN48",
        "outputId": "df8ce1ac-2d60-431d-d222-0b623823bea6"
      },
      "outputs": [
        {
          "name": "stdout",
          "output_type": "stream",
          "text": [
            "My name is:  azmat Hello Everyone\n"
          ]
        }
      ],
      "source": [
        "print(\"My name is: \", \"azmat\",end=\" \")\n",
        "print(\"Hello Everyone\")"
      ]
    },
    {
      "cell_type": "code",
      "execution_count": null,
      "metadata": {
        "colab": {
          "base_uri": "https://localhost:8080/"
        },
        "id": "HW202_0unt1u",
        "outputId": "1950641d-dda8-4ee5-93bd-6c78fdd1b779"
      },
      "outputs": [
        {
          "name": "stdout",
          "output_type": "stream",
          "text": [
            "5 4 "
          ]
        }
      ],
      "source": [
        "a = 5\n",
        "b = 4\n",
        "print(a,b,end=\" \")"
      ]
    },
    {
      "cell_type": "code",
      "execution_count": null,
      "metadata": {
        "colab": {
          "base_uri": "https://localhost:8080/"
        },
        "id": "h8TLTfP2oFRQ",
        "outputId": "b27ef4e1-3f80-46fb-f381-3706c3328704"
      },
      "outputs": [
        {
          "name": "stdout",
          "output_type": "stream",
          "text": [
            "afzal@CodingNinjas\n"
          ]
        }
      ],
      "source": [
        "print(\"afzal\", end = \"@\")\n",
        "print(\"CodingNinjas\")"
      ]
    },
    {
      "cell_type": "code",
      "execution_count": null,
      "metadata": {
        "colab": {
          "base_uri": "https://localhost:8080/"
        },
        "id": "r_Bpbax8ogAJ",
        "outputId": "7183f4e6-17d3-429a-a705-8a9037ea8ca3"
      },
      "outputs": [
        {
          "name": "stdout",
          "output_type": "stream",
          "text": [
            "5,6,7\n"
          ]
        }
      ],
      "source": [
        "print(5, 6, 7, sep = \",\" )"
      ]
    },
    {
      "cell_type": "code",
      "execution_count": null,
      "metadata": {
        "colab": {
          "base_uri": "https://localhost:8080/"
        },
        "id": "cdcj8O8hWCKa",
        "outputId": "5916eff9-20d1-4791-ea73-f7eafa98c811"
      },
      "outputs": [
        {
          "name": "stdout",
          "output_type": "stream",
          "text": [
            "4\n",
            "20\n"
          ]
        }
      ],
      "source": [
        "length =input()\n",
        "breadth=input()"
      ]
    },
    {
      "cell_type": "code",
      "execution_count": null,
      "metadata": {
        "colab": {
          "base_uri": "https://localhost:8080/"
        },
        "id": "rAceIfrdWQGV",
        "outputId": "deeea7b9-9c4a-48ab-b968-3311ff6030f2"
      },
      "outputs": [
        {
          "name": "stdout",
          "output_type": "stream",
          "text": [
            "hi\n"
          ]
        }
      ],
      "source": [
        "print('hi')"
      ]
    },
    {
      "cell_type": "code",
      "execution_count": null,
      "metadata": {
        "id": "_ZkRwb88TbwE"
      },
      "outputs": [],
      "source": [
        "a = int(input(\"enter a number \"))"
      ]
    },
    {
      "cell_type": "code",
      "execution_count": null,
      "metadata": {
        "colab": {
          "base_uri": "https://localhost:8080/"
        },
        "id": "hAFnnhSsVWdO",
        "outputId": "3ec9bd1e-2a39-4e02-e210-5626cd6f5d8d"
      },
      "outputs": [
        {
          "name": "stdout",
          "output_type": "stream",
          "text": [
            "Welcome to CodingNinjas\n"
          ]
        }
      ],
      "source": [
        "if 10 == 10:\n",
        "    print(\"Welcome to CodingNinjas\")\n"
      ]
    },
    {
      "cell_type": "code",
      "execution_count": null,
      "metadata": {
        "id": "LhM7sB3kTkOx"
      },
      "outputs": [],
      "source": [
        "if a==2:\n",
        "  print('hello')\n",
        "print('outside')\n"
      ]
    },
    {
      "cell_type": "code",
      "execution_count": null,
      "metadata": {
        "colab": {
          "base_uri": "https://localhost:8080/"
        },
        "id": "hV2U5FggT8Hw",
        "outputId": "74886f53-b175-4fa1-805a-c8cd5070af3a"
      },
      "outputs": [
        {
          "name": "stdout",
          "output_type": "stream",
          "text": [
            "true\n"
          ]
        }
      ],
      "source": [
        "a,b =12,5\n",
        "if a+b:\n",
        "  print('true')\n",
        "else:\n",
        "  print('false')"
      ]
    },
    {
      "cell_type": "code",
      "execution_count": null,
      "metadata": {
        "colab": {
          "base_uri": "https://localhost:8080/"
        },
        "id": "n65F2dNtJ5Zb",
        "outputId": "dfb64bf8-bdd7-49f7-ea41-cc70619c5021"
      },
      "outputs": [
        {
          "name": "stdout",
          "output_type": "stream",
          "text": [
            " enter a first number before a swap 2\n",
            "enter a second number before a swap 4\n"
          ]
        }
      ],
      "source": [
        "num1 =int(input(\" enter a first number before a swap \"))\n",
        "num2 =int(input(\"enter a second number before a swap \"))"
      ]
    },
    {
      "cell_type": "code",
      "execution_count": null,
      "metadata": {
        "colab": {
          "base_uri": "https://localhost:8080/"
        },
        "id": "YCe13yyGKTa5",
        "outputId": "ff6dfbe5-6fab-4387-fe62-4da84bee1943"
      },
      "outputs": [
        {
          "name": "stdout",
          "output_type": "stream",
          "text": [
            "Value of num1 before swaping 2\n",
            "value of num2 before swaping 4\n",
            "value of num1 after swaping 4\n",
            "value of num2 after swaping 2\n"
          ]
        }
      ],
      "source": [
        "num1=2\n",
        "num2=4\n",
        "print(\"Value of num1 before swaping\",num1)\n",
        "print(\"value of num2 before swaping\",num2)\n",
        "\n",
        "temp=num1\n",
        "num1=num2\n",
        "num2=temp\n",
        "print(\"value of num1 after swaping\",num1)\n",
        "print(\"value of num2 after swaping\",num2)"
      ]
    },
    {
      "cell_type": "code",
      "execution_count": null,
      "metadata": {
        "colab": {
          "base_uri": "https://localhost:8080/"
        },
        "id": "1xphDoFaXvwn",
        "outputId": "5d7a2645-a823-490d-f5d2-c59e0b13233d"
      },
      "outputs": [
        {
          "name": "stdout",
          "output_type": "stream",
          "text": [
            "2, 3, 4, "
          ]
        }
      ],
      "source": [
        "for num in range(2,5,1):\n",
        "    print(num, end=\", \")"
      ]
    },
    {
      "cell_type": "code",
      "execution_count": null,
      "metadata": {
        "colab": {
          "base_uri": "https://localhost:8080/"
        },
        "id": "Lr4ebtlDYsCb",
        "outputId": "e095cef0-2fef-425a-84d9-86fb4453e667"
      },
      "outputs": [
        {
          "name": "stdout",
          "output_type": "stream",
          "text": [
            "Object `code` not found.\n",
            "1 3 5 "
          ]
        }
      ],
      "source": [
        "What will be the output of the following Python code?\n",
        "\n",
        "i = 0\n",
        "while(i < 5):\n",
        "    i = i + 1\n",
        "    print(i,end = \" \")\n",
        "    i += 1"
      ]
    },
    {
      "cell_type": "code",
      "execution_count": null,
      "metadata": {
        "colab": {
          "base_uri": "https://localhost:8080/"
        },
        "id": "wJKFccUAYr9z",
        "outputId": "337e93c8-3eb9-4424-e0bd-86f9875644a4"
      },
      "outputs": [
        {
          "name": "stdout",
          "output_type": "stream",
          "text": [
            "1\n",
            "3\n",
            "5\n"
          ]
        }
      ],
      "source": [
        "i = 0\n",
        "while(i < 5):\n",
        "    i = i + 1\n",
        "    print(i)\n",
        "    i += 1"
      ]
    },
    {
      "cell_type": "code",
      "execution_count": null,
      "metadata": {
        "colab": {
          "base_uri": "https://localhost:8080/"
        },
        "id": "CaYrwLc3HKir",
        "outputId": "fa7fc4c7-19d6-41aa-9a0d-dea07e6d364b"
      },
      "outputs": [
        {
          "name": "stdout",
          "output_type": "stream",
          "text": [
            "3\n",
            "5\n"
          ]
        }
      ],
      "source": [
        "i =2\n",
        "while(i<5):\n",
        "  i=i+1\n",
        "  print(i)\n",
        "  i+=1"
      ]
    },
    {
      "cell_type": "code",
      "execution_count": null,
      "metadata": {
        "colab": {
          "base_uri": "https://localhost:8080/"
        },
        "id": "p5CoadaOH52m",
        "outputId": "edc41699-a0ce-4773-e98b-c52cc7e78f86"
      },
      "outputs": [
        {
          "name": "stdout",
          "output_type": "stream",
          "text": [
            "0\n",
            "1\n",
            "2\n",
            "3\n",
            "4\n"
          ]
        }
      ],
      "source": [
        "a=0\n",
        "while a<5:\n",
        "  print(a)\n",
        "  a=a+1\n"
      ]
    },
    {
      "cell_type": "code",
      "execution_count": null,
      "metadata": {
        "colab": {
          "base_uri": "https://localhost:8080/"
        },
        "id": "aAjVWe8EOcvg",
        "outputId": "cd4901ee-6467-4d3c-a636-021da1e9c4ca"
      },
      "outputs": [
        {
          "name": "stdout",
          "output_type": "stream",
          "text": [
            "0\n",
            "1\n",
            "2\n"
          ]
        }
      ],
      "source": [
        "i =0\n",
        "while i<5:\n",
        "  if i==3:\n",
        "    break\n",
        "  print(i)\n",
        "  i=i+1\n"
      ]
    },
    {
      "cell_type": "code",
      "execution_count": null,
      "metadata": {
        "colab": {
          "base_uri": "https://localhost:8080/"
        },
        "id": "UGreq4rYMq92",
        "outputId": "5ea89517-fb2a-4bfb-f8e9-4aba36031d7f"
      },
      "outputs": [
        {
          "name": "stdout",
          "output_type": "stream",
          "text": [
            "1\n",
            "3\n",
            "5\n"
          ]
        }
      ],
      "source": [
        "i =0\n",
        "while i<5:\n",
        "  i =i+1\n",
        "  print(i,sep=\"\\n\")\n",
        "  i+=1"
      ]
    },
    {
      "cell_type": "code",
      "execution_count": null,
      "metadata": {
        "colab": {
          "base_uri": "https://localhost:8080/"
        },
        "id": "hnfKTmo8M8Ot",
        "outputId": "875f7b07-3b77-4a75-8528-ca509caeda39"
      },
      "outputs": [
        {
          "name": "stdout",
          "output_type": "stream",
          "text": [
            "0 1 2 3 4 "
          ]
        }
      ],
      "source": [
        "i = 0\n",
        "while(i < 5):\n",
        "    print(i,end = \" \")\n",
        "    i=i+1"
      ]
    },
    {
      "cell_type": "code",
      "execution_count": null,
      "metadata": {
        "colab": {
          "background_save": true,
          "base_uri": "https://localhost:8080/"
        },
        "id": "au490hNPa5OA",
        "outputId": "2400cf8f-b795-47c6-808f-d67b3640c671"
      },
      "outputs": [
        {
          "name": "stdout",
          "output_type": "stream",
          "text": [
            "0 1 "
          ]
        }
      ],
      "source": [
        "i = 0\n",
        "while i < 5:\n",
        "    if i == 2:\n",
        "        continue\n",
        "    else:\n",
        "        print(i,end = \" \")\n",
        "        i += 1"
      ]
    },
    {
      "cell_type": "code",
      "execution_count": null,
      "metadata": {
        "id": "mmX7oUHza8r7"
      },
      "outputs": [],
      "source": [
        "n = 0\n",
        "while n <5:\n",
        "  n=n+1\n",
        "  if n==3:\n",
        "    continue\n",
        "    print(n)\n",
        "    n=n+1"
      ]
    },
    {
      "cell_type": "code",
      "source": [
        "for i in range(1,5):\n",
        "  if i==3:\n",
        "    continue\n",
        "  else:\n",
        "    print(i,end=\" \")\n"
      ],
      "metadata": {
        "colab": {
          "base_uri": "https://localhost:8080/"
        },
        "id": "3v1PaEY1O8M6",
        "outputId": "28401da3-df43-4363-a1c1-690336e23498"
      },
      "execution_count": null,
      "outputs": [
        {
          "output_type": "stream",
          "name": "stdout",
          "text": [
            "1 2 4 "
          ]
        }
      ]
    },
    {
      "cell_type": "code",
      "source": [
        "a = 'anil'\n",
        "print(a)\n"
      ],
      "metadata": {
        "colab": {
          "base_uri": "https://localhost:8080/"
        },
        "id": "zFBe0NJAWv1G",
        "outputId": "94ec851c-af38-4bf1-acb5-0ed42ca5e4d0"
      },
      "execution_count": null,
      "outputs": [
        {
          "output_type": "stream",
          "name": "stdout",
          "text": [
            "anil\n"
          ]
        }
      ]
    },
    {
      "cell_type": "code",
      "source": [
        "a[-3]\n"
      ],
      "metadata": {
        "colab": {
          "base_uri": "https://localhost:8080/",
          "height": 35
        },
        "id": "6QI6TKdiXSpn",
        "outputId": "8b506512-05a4-47d1-911b-41cf92de1835"
      },
      "execution_count": null,
      "outputs": [
        {
          "output_type": "execute_result",
          "data": {
            "text/plain": [
              "'n'"
            ],
            "application/vnd.google.colaboratory.intrinsic+json": {
              "type": "string"
            }
          },
          "metadata": {},
          "execution_count": 21
        }
      ]
    },
    {
      "cell_type": "code",
      "source": [
        "a ='anil'\n",
        "b= 'kumar'\n",
        "d=a+b\n",
        "print(d)"
      ],
      "metadata": {
        "colab": {
          "base_uri": "https://localhost:8080/"
        },
        "id": "dqk0DPHbdanx",
        "outputId": "8e0881e9-42f7-43fe-89dc-8047f6ec8a80"
      },
      "execution_count": null,
      "outputs": [
        {
          "output_type": "stream",
          "name": "stdout",
          "text": [
            "anilkumar\n"
          ]
        }
      ]
    },
    {
      "cell_type": "code",
      "source": [
        "c= a+b\n",
        "print(c)"
      ],
      "metadata": {
        "colab": {
          "base_uri": "https://localhost:8080/"
        },
        "id": "tmraaUPGd664",
        "outputId": "93edd7bf-20ea-4326-d8b9-3e27ec1e92c2"
      },
      "execution_count": null,
      "outputs": [
        {
          "output_type": "stream",
          "name": "stdout",
          "text": [
            "anilkumar\n"
          ]
        }
      ]
    },
    {
      "cell_type": "code",
      "source": [
        "for i in d:\n",
        "  print(i,end=' ')"
      ],
      "metadata": {
        "colab": {
          "base_uri": "https://localhost:8080/"
        },
        "id": "n2Qc3njieCL4",
        "outputId": "066ced5a-0ef2-46ec-8231-8ad35030368f"
      },
      "execution_count": null,
      "outputs": [
        {
          "output_type": "stream",
          "name": "stdout",
          "text": [
            "a n i l k u m a r "
          ]
        }
      ]
    },
    {
      "cell_type": "code",
      "source": [
        "'a' in c\n",
        "'b' in c"
      ],
      "metadata": {
        "colab": {
          "base_uri": "https://localhost:8080/"
        },
        "id": "VBC7IMHigEmE",
        "outputId": "62df15b7-2a6a-4433-9582-f208d4b26aca"
      },
      "execution_count": null,
      "outputs": [
        {
          "output_type": "execute_result",
          "data": {
            "text/plain": [
              "False"
            ]
          },
          "metadata": {},
          "execution_count": 40
        }
      ]
    },
    {
      "cell_type": "code",
      "source": [
        "'k' in c"
      ],
      "metadata": {
        "colab": {
          "base_uri": "https://localhost:8080/"
        },
        "id": "LwUx74jVggR4",
        "outputId": "a14fa17a-ac24-416b-9ced-221b98b6225b"
      },
      "execution_count": null,
      "outputs": [
        {
          "output_type": "execute_result",
          "data": {
            "text/plain": [
              "True"
            ]
          },
          "metadata": {},
          "execution_count": 41
        }
      ]
    },
    {
      "cell_type": "code",
      "source": [
        "print(r'\\n')"
      ],
      "metadata": {
        "colab": {
          "base_uri": "https://localhost:8080/"
        },
        "id": "m_mO0CRoiE-m",
        "outputId": "365178f3-19c5-41c4-ec8b-e083b76add7d"
      },
      "execution_count": null,
      "outputs": [
        {
          "output_type": "stream",
          "name": "stdout",
          "text": [
            "\\n\n"
          ]
        }
      ]
    },
    {
      "cell_type": "code",
      "source": [
        "b"
      ],
      "metadata": {
        "id": "9rb_uUmrkrgW"
      },
      "execution_count": null,
      "outputs": []
    },
    {
      "cell_type": "code",
      "source": [
        "name =input(\"enter a good name please\")\n",
        "print('hii {},what about you ?',format(name))"
      ],
      "metadata": {
        "colab": {
          "base_uri": "https://localhost:8080/"
        },
        "id": "8_BHS2JNjXyU",
        "outputId": "4024a207-d217-4887-af75-ebdeb021935d"
      },
      "execution_count": null,
      "outputs": [
        {
          "output_type": "stream",
          "name": "stdout",
          "text": [
            "enter a good name pleaseAnil\n",
            "hii {},what about you ? Anil\n"
          ]
        }
      ]
    },
    {
      "cell_type": "code",
      "source": [
        "a='Anil'\n",
        "print(a.upper())\n",
        "print(a.lower())"
      ],
      "metadata": {
        "colab": {
          "base_uri": "https://localhost:8080/"
        },
        "id": "-xPRyroPkutj",
        "outputId": "05459e3f-4e63-48f0-9dc9-b91433ee4b8e"
      },
      "execution_count": null,
      "outputs": [
        {
          "output_type": "stream",
          "name": "stdout",
          "text": [
            "ANIL\n",
            "anil\n"
          ]
        }
      ]
    },
    {
      "cell_type": "code",
      "source": [
        "words ='a-b-c d'\n",
        "words.split('-')"
      ],
      "metadata": {
        "id": "tyszPRP6v9yG",
        "colab": {
          "base_uri": "https://localhost:8080/"
        },
        "outputId": "b49b5239-2888-499d-e2c0-c19768eaac30"
      },
      "execution_count": null,
      "outputs": [
        {
          "output_type": "execute_result",
          "data": {
            "text/plain": [
              "['a', 'b', 'c d']"
            ]
          },
          "metadata": {},
          "execution_count": 19
        }
      ]
    },
    {
      "cell_type": "code",
      "source": [
        "list & tuple"
      ],
      "metadata": {
        "id": "O__Byc2K-ESD"
      },
      "execution_count": null,
      "outputs": []
    },
    {
      "cell_type": "code",
      "source": [
        "d =[1,3,4.5,\"Anil\"]\n",
        "e =(1,3,4.5,\"Anil\")"
      ],
      "metadata": {
        "id": "gIXqBSBs-HEr"
      },
      "execution_count": null,
      "outputs": []
    },
    {
      "cell_type": "code",
      "source": [
        "print(type(d))"
      ],
      "metadata": {
        "colab": {
          "base_uri": "https://localhost:8080/"
        },
        "id": "Pqc8zRST-RSQ",
        "outputId": "8012dc97-9aa0-4ace-e52c-a419a2087633"
      },
      "execution_count": null,
      "outputs": [
        {
          "output_type": "stream",
          "name": "stdout",
          "text": [
            "<class 'list'>\n"
          ]
        }
      ]
    },
    {
      "cell_type": "code",
      "source": [
        "print(type(e))"
      ],
      "metadata": {
        "colab": {
          "base_uri": "https://localhost:8080/"
        },
        "id": "8umz2lXV-yFi",
        "outputId": "e1203b6c-807a-4f82-9a37-75db1e7ef840"
      },
      "execution_count": null,
      "outputs": [
        {
          "output_type": "stream",
          "name": "stdout",
          "text": [
            "<class 'tuple'>\n"
          ]
        }
      ]
    },
    {
      "cell_type": "code",
      "source": [
        "print(d)\n"
      ],
      "metadata": {
        "colab": {
          "base_uri": "https://localhost:8080/"
        },
        "id": "ekk0_t2OKoGG",
        "outputId": "7294bf65-4249-44d8-cb67-5c6ffe4802fa"
      },
      "execution_count": null,
      "outputs": [
        {
          "output_type": "stream",
          "name": "stdout",
          "text": [
            "[1, 3, 4.5, 'Anil']\n"
          ]
        }
      ]
    },
    {
      "cell_type": "code",
      "source": [
        "print(d[0:3])"
      ],
      "metadata": {
        "colab": {
          "base_uri": "https://localhost:8080/"
        },
        "id": "zZfYExN1KuhI",
        "outputId": "fbcf98bc-7000-42c8-e2d8-29115037d26f"
      },
      "execution_count": null,
      "outputs": [
        {
          "output_type": "stream",
          "name": "stdout",
          "text": [
            "[1, 3, 4.5]\n"
          ]
        }
      ]
    },
    {
      "cell_type": "code",
      "source": [
        "4.5 in d"
      ],
      "metadata": {
        "colab": {
          "base_uri": "https://localhost:8080/"
        },
        "id": "YH2vJUxNK7rn",
        "outputId": "48ce7dd9-35b1-4b81-e981-ab072a93c453"
      },
      "execution_count": null,
      "outputs": [
        {
          "output_type": "execute_result",
          "data": {
            "text/plain": [
              "True"
            ]
          },
          "metadata": {},
          "execution_count": 13
        }
      ]
    },
    {
      "cell_type": "code",
      "source": [
        "'AK' in d"
      ],
      "metadata": {
        "colab": {
          "base_uri": "https://localhost:8080/"
        },
        "id": "MrqyOmfrLUs5",
        "outputId": "9aa04b9c-13f6-4a39-e71e-d794956e464f"
      },
      "execution_count": null,
      "outputs": [
        {
          "output_type": "execute_result",
          "data": {
            "text/plain": [
              "False"
            ]
          },
          "metadata": {},
          "execution_count": 29
        }
      ]
    },
    {
      "cell_type": "code",
      "source": [
        "d[1]"
      ],
      "metadata": {
        "colab": {
          "base_uri": "https://localhost:8080/"
        },
        "id": "-MY9zmGpL7US",
        "outputId": "6446e9d0-b55d-48a8-ec1c-832f1d972602"
      },
      "execution_count": null,
      "outputs": [
        {
          "output_type": "execute_result",
          "data": {
            "text/plain": [
              "3"
            ]
          },
          "metadata": {},
          "execution_count": 30
        }
      ]
    },
    {
      "cell_type": "code",
      "source": [
        "d[3]=\"anil\""
      ],
      "metadata": {
        "id": "JDF_OmXXNV4Q"
      },
      "execution_count": null,
      "outputs": []
    },
    {
      "cell_type": "code",
      "source": [
        "d"
      ],
      "metadata": {
        "colab": {
          "base_uri": "https://localhost:8080/"
        },
        "id": "dywQk7I4NixQ",
        "outputId": "42dd2979-7d50-4f4c-966e-2c275f835243"
      },
      "execution_count": null,
      "outputs": [
        {
          "output_type": "execute_result",
          "data": {
            "text/plain": [
              "[True, 3, True, 'anil']"
            ]
          },
          "metadata": {},
          "execution_count": 32
        }
      ]
    },
    {
      "cell_type": "code",
      "source": [
        "d[0:3] ='anil','kumAR'"
      ],
      "metadata": {
        "id": "l9gJXCOOOP1-"
      },
      "execution_count": null,
      "outputs": []
    },
    {
      "cell_type": "code",
      "source": [
        "d=[1,2,3.5,True]"
      ],
      "metadata": {
        "id": "s6U-y57kOPeV"
      },
      "execution_count": null,
      "outputs": []
    },
    {
      "cell_type": "code",
      "source": [
        "d\n"
      ],
      "metadata": {
        "colab": {
          "base_uri": "https://localhost:8080/"
        },
        "id": "bWVxN5jygzKF",
        "outputId": "3eb08134-80cb-46f1-97e3-db1b9d91a5e5"
      },
      "execution_count": null,
      "outputs": [
        {
          "output_type": "execute_result",
          "data": {
            "text/plain": [
              "[1, 2, 3.5, True]"
            ]
          },
          "metadata": {},
          "execution_count": 5
        }
      ]
    },
    {
      "cell_type": "code",
      "source": [
        "p =[3,5,6.5,True]\n"
      ],
      "metadata": {
        "id": "KwKu9kTXg8Ih"
      },
      "execution_count": null,
      "outputs": []
    },
    {
      "cell_type": "code",
      "source": [
        "d.extend(p)\n"
      ],
      "metadata": {
        "id": "EIerGCybhnHr"
      },
      "execution_count": null,
      "outputs": []
    },
    {
      "cell_type": "code",
      "source": [
        "d"
      ],
      "metadata": {
        "colab": {
          "base_uri": "https://localhost:8080/"
        },
        "id": "lEyTI_M0huUZ",
        "outputId": "4e3764ba-0bca-4f7f-8bfd-df078da02507"
      },
      "execution_count": null,
      "outputs": [
        {
          "output_type": "execute_result",
          "data": {
            "text/plain": [
              "[1, 2, 3.5, True, 2, 3, 4.5, True, 3, 5, 6.5, True]"
            ]
          },
          "metadata": {},
          "execution_count": 9
        }
      ]
    },
    {
      "cell_type": "code",
      "source": [
        "for a in d:\n",
        "  print(a,end='  ')"
      ],
      "metadata": {
        "colab": {
          "base_uri": "https://localhost:8080/"
        },
        "id": "BeIe5U5aiPES",
        "outputId": "e65d97e8-5aa0-43b0-a0a8-73ca0a7b5323"
      },
      "execution_count": null,
      "outputs": [
        {
          "output_type": "stream",
          "name": "stdout",
          "text": [
            "1  2  3.5  True  2  3  4.5  True  3  5  6.5  True  "
          ]
        }
      ]
    },
    {
      "cell_type": "code",
      "source": [
        "\n",
        "a= {1,2,3,4.5,\"Anil\"}\n",
        "type(a)"
      ],
      "metadata": {
        "colab": {
          "base_uri": "https://localhost:8080/"
        },
        "id": "xAJgrE2D7Cxx",
        "outputId": "c08fdf9d-ef31-43c6-cc2a-33fdb779d1b1"
      },
      "execution_count": null,
      "outputs": [
        {
          "output_type": "execute_result",
          "data": {
            "text/plain": [
              "set"
            ]
          },
          "metadata": {},
          "execution_count": 2
        }
      ]
    },
    {
      "cell_type": "code",
      "source": [
        "len(a)"
      ],
      "metadata": {
        "colab": {
          "base_uri": "https://localhost:8080/"
        },
        "id": "Bza4aTrkFU--",
        "outputId": "8b87be77-17eb-4efd-8e82-adfd97c0ed2e"
      },
      "execution_count": null,
      "outputs": [
        {
          "output_type": "execute_result",
          "data": {
            "text/plain": [
              "5"
            ]
          },
          "metadata": {},
          "execution_count": 5
        }
      ]
    },
    {
      "cell_type": "code",
      "source": [
        "for x in a:\n",
        "  print(x)"
      ],
      "metadata": {
        "colab": {
          "base_uri": "https://localhost:8080/"
        },
        "id": "DGq7yl_KEjZa",
        "outputId": "d49df986-808c-49ee-fad2-6de4c3c6b8bb"
      },
      "execution_count": null,
      "outputs": [
        {
          "output_type": "stream",
          "name": "stdout",
          "text": [
            "1\n",
            "2\n",
            "3\n",
            "4.5\n",
            "Anil\n"
          ]
        }
      ]
    },
    {
      "cell_type": "code",
      "source": [
        "a.add(False)"
      ],
      "metadata": {
        "id": "dteZ0jtPGfS1"
      },
      "execution_count": null,
      "outputs": []
    },
    {
      "cell_type": "code",
      "source": [
        "print(a)"
      ],
      "metadata": {
        "colab": {
          "base_uri": "https://localhost:8080/"
        },
        "id": "2CAWlvxHGyqe",
        "outputId": "8e007712-76e2-46a7-b6f2-f1bbd5e1b068"
      },
      "execution_count": null,
      "outputs": [
        {
          "output_type": "stream",
          "name": "stdout",
          "text": [
            "{False, 1, 2, 3, 4.5, 'Kumar', 'Anil'}\n"
          ]
        }
      ]
    },
    {
      "cell_type": "code",
      "source": [
        "a.remove(\"Kumar\")"
      ],
      "metadata": {
        "id": "zJe6HXAQHiXT"
      },
      "execution_count": null,
      "outputs": []
    },
    {
      "cell_type": "code",
      "source": [
        "print(a)"
      ],
      "metadata": {
        "colab": {
          "base_uri": "https://localhost:8080/"
        },
        "id": "bVWPMLraHr6p",
        "outputId": "601de412-4967-49c1-ad8a-956167edad39"
      },
      "execution_count": null,
      "outputs": [
        {
          "output_type": "stream",
          "name": "stdout",
          "text": [
            "{False, 1, 2, 3, 4.5, 'Anil'}\n"
          ]
        }
      ]
    },
    {
      "cell_type": "code",
      "source": [
        "a.remove(4.5)\n",
        "print(a)"
      ],
      "metadata": {
        "colab": {
          "base_uri": "https://localhost:8080/"
        },
        "id": "zyrUK4z0HwL8",
        "outputId": "8000ad51-82a7-4637-b0db-b4106260d03e"
      },
      "execution_count": null,
      "outputs": [
        {
          "output_type": "stream",
          "name": "stdout",
          "text": [
            "{False, 1, 2, 3, 'Anil'}\n"
          ]
        }
      ]
    },
    {
      "cell_type": "code",
      "source": [
        "b ={'name':'AK','age':13,'marks1':95.5,'marks2':99.9}\n",
        "print(type(b))"
      ],
      "metadata": {
        "colab": {
          "base_uri": "https://localhost:8080/"
        },
        "id": "8txDyRVBH0br",
        "outputId": "e0670103-efdb-40e9-a5f0-be29345001de"
      },
      "execution_count": null,
      "outputs": [
        {
          "output_type": "stream",
          "name": "stdout",
          "text": [
            "<class 'dict'>\n"
          ]
        }
      ]
    },
    {
      "cell_type": "code",
      "source": [
        "print(b.get('marks1'))"
      ],
      "metadata": {
        "colab": {
          "base_uri": "https://localhost:8080/"
        },
        "id": "yDBnkAW8Nzot",
        "outputId": "b5a9e535-3bb6-42a6-bfcf-c00561eb333f"
      },
      "execution_count": null,
      "outputs": [
        {
          "output_type": "stream",
          "name": "stdout",
          "text": [
            "95.5\n"
          ]
        }
      ]
    },
    {
      "cell_type": "code",
      "source": [
        "y =b.keys()\n",
        "print(y)"
      ],
      "metadata": {
        "colab": {
          "base_uri": "https://localhost:8080/"
        },
        "id": "kPH2rZxxO-om",
        "outputId": "85e9360e-0c1c-4459-d637-2e39c4b0f84e"
      },
      "execution_count": null,
      "outputs": [
        {
          "output_type": "stream",
          "name": "stdout",
          "text": [
            "dict_keys(['name', 'age', 'marks1', 'marks2'])\n"
          ]
        }
      ]
    },
    {
      "cell_type": "code",
      "source": [
        "for i in y:\n",
        "  print(b.get(i))"
      ],
      "metadata": {
        "colab": {
          "base_uri": "https://localhost:8080/"
        },
        "id": "qFm8jGi8P1LF",
        "outputId": "d12e4ed8-8b72-4619-e4f3-d0972997c8b0"
      },
      "execution_count": null,
      "outputs": [
        {
          "output_type": "stream",
          "name": "stdout",
          "text": [
            "AK\n",
            "13\n",
            "95.5\n",
            "99.9\n"
          ]
        }
      ]
    },
    {
      "cell_type": "code",
      "source": [
        "x=b.values()\n",
        "print(x)"
      ],
      "metadata": {
        "colab": {
          "base_uri": "https://localhost:8080/"
        },
        "id": "mMHCThK3QkD4",
        "outputId": "775d20a4-05f0-48ba-a3cf-3340583cdef4"
      },
      "execution_count": null,
      "outputs": [
        {
          "output_type": "stream",
          "name": "stdout",
          "text": [
            "dict_values(['AK', 13, 95.5, 99.9])\n"
          ]
        }
      ]
    },
    {
      "cell_type": "code",
      "source": [
        "z = b.items()\n",
        "print(z)"
      ],
      "metadata": {
        "colab": {
          "base_uri": "https://localhost:8080/"
        },
        "id": "aclufsGmQwDm",
        "outputId": "54b3298f-f7b6-431a-e54c-725cdf6f27f5"
      },
      "execution_count": null,
      "outputs": [
        {
          "output_type": "stream",
          "name": "stdout",
          "text": [
            "dict_items([('name', 'AK'), ('age', 13), ('marks1', 95.5), ('marks2', 99.9)])\n"
          ]
        }
      ]
    },
    {
      "cell_type": "code",
      "source": [
        "'marks1' in b"
      ],
      "metadata": {
        "colab": {
          "base_uri": "https://localhost:8080/"
        },
        "id": "L7wFZu0qSHDk",
        "outputId": "90525e61-807f-4993-9f28-20413a403f76"
      },
      "execution_count": null,
      "outputs": [
        {
          "output_type": "execute_result",
          "data": {
            "text/plain": [
              "True"
            ]
          },
          "metadata": {},
          "execution_count": 46
        }
      ]
    },
    {
      "cell_type": "code",
      "source": [
        "'name' in b"
      ],
      "metadata": {
        "colab": {
          "base_uri": "https://localhost:8080/"
        },
        "id": "xG-lciLbSOQj",
        "outputId": "2ba25efe-0b77-4aff-f7d9-f14352ff2eea"
      },
      "execution_count": null,
      "outputs": [
        {
          "output_type": "execute_result",
          "data": {
            "text/plain": [
              "True"
            ]
          },
          "metadata": {},
          "execution_count": 47
        }
      ]
    },
    {
      "cell_type": "code",
      "source": [
        "'hobbies' in b"
      ],
      "metadata": {
        "colab": {
          "base_uri": "https://localhost:8080/"
        },
        "id": "TgkkkAWqSWlt",
        "outputId": "c4131211-9d7a-4490-d128-5501963bbc1f"
      },
      "execution_count": null,
      "outputs": [
        {
          "output_type": "execute_result",
          "data": {
            "text/plain": [
              "False"
            ]
          },
          "metadata": {},
          "execution_count": 49
        }
      ]
    },
    {
      "cell_type": "code",
      "source": [
        "b.update({'age':10})\n"
      ],
      "metadata": {
        "id": "ajVlRpIESh3A"
      },
      "execution_count": null,
      "outputs": []
    },
    {
      "cell_type": "code",
      "source": [
        "b.values()"
      ],
      "metadata": {
        "colab": {
          "base_uri": "https://localhost:8080/"
        },
        "id": "jcKbONUHTE3J",
        "outputId": "d428a989-9c51-4932-fbb6-8e7d07f15030"
      },
      "execution_count": null,
      "outputs": [
        {
          "output_type": "execute_result",
          "data": {
            "text/plain": [
              "dict_values(['AK', 10, 95.5, 99.9])"
            ]
          },
          "metadata": {},
          "execution_count": 53
        }
      ]
    },
    {
      "cell_type": "code",
      "source": [
        "b['hobbies'] =['playing/watching cricker','playing pubg']\n"
      ],
      "metadata": {
        "id": "QyJ_yI62TqDJ"
      },
      "execution_count": null,
      "outputs": []
    },
    {
      "cell_type": "code",
      "source": [
        "b"
      ],
      "metadata": {
        "colab": {
          "base_uri": "https://localhost:8080/"
        },
        "id": "zSdw7ZuCUSvi",
        "outputId": "0158229a-079c-4ebd-f894-92a5f4b94687"
      },
      "execution_count": null,
      "outputs": [
        {
          "output_type": "execute_result",
          "data": {
            "text/plain": [
              "{'name': 'AK',\n",
              " 'age': 10,\n",
              " 'marks1': 95.5,\n",
              " 'marks2': 99.9,\n",
              " 'hobbies': ['playing/watching cricker', 'playing pubg']}"
            ]
          },
          "metadata": {},
          "execution_count": 64
        }
      ]
    },
    {
      "cell_type": "code",
      "source": [
        "type(b.get('hobbies'))"
      ],
      "metadata": {
        "colab": {
          "base_uri": "https://localhost:8080/"
        },
        "id": "INeAUyXzVoOt",
        "outputId": "844b64fe-af73-4743-947a-191c4ff95561"
      },
      "execution_count": null,
      "outputs": [
        {
          "output_type": "execute_result",
          "data": {
            "text/plain": [
              "list"
            ]
          },
          "metadata": {},
          "execution_count": 65
        }
      ]
    },
    {
      "cell_type": "code",
      "source": [
        "b.pop('hobbies')\n",
        "b"
      ],
      "metadata": {
        "id": "8_AHTnvfXeB8",
        "outputId": "71d240ff-8557-4254-ade0-1f474d875662",
        "colab": {
          "base_uri": "https://localhost:8080/"
        }
      },
      "execution_count": null,
      "outputs": [
        {
          "output_type": "execute_result",
          "data": {
            "text/plain": [
              "{'name': 'AK', 'age': 10, 'marks1': 95.5, 'marks2': 99.9}"
            ]
          },
          "metadata": {},
          "execution_count": 66
        }
      ]
    },
    {
      "cell_type": "code",
      "source": [
        "Functons"
      ],
      "metadata": {
        "id": "AAX7yIaIHjU3"
      },
      "execution_count": null,
      "outputs": []
    },
    {
      "cell_type": "code",
      "source": [
        "def sayHello():\n",
        "  print(\"Anil\")\n",
        "  print(\"kumar\")\n",
        "  print(\"namaskarm\")"
      ],
      "metadata": {
        "id": "30dJXDnNHlDQ"
      },
      "execution_count": null,
      "outputs": []
    },
    {
      "cell_type": "code",
      "source": [
        "sayHello()"
      ],
      "metadata": {
        "colab": {
          "base_uri": "https://localhost:8080/"
        },
        "id": "j_VypJ4-HxF7",
        "outputId": "03f8cc3c-49cc-43f0-ea21-e369558af730"
      },
      "execution_count": null,
      "outputs": [
        {
          "output_type": "stream",
          "name": "stdout",
          "text": [
            "Anil\n",
            "kumar\n",
            "namaskarm\n"
          ]
        }
      ]
    },
    {
      "cell_type": "code",
      "source": [
        "def add(a,b):\n",
        "  print(a+b)\n",
        "  print(c+d)\n"
      ],
      "metadata": {
        "id": "usvteGO-Jh-Z"
      },
      "execution_count": null,
      "outputs": []
    },
    {
      "cell_type": "code",
      "source": [
        "add(3,3)\n",
        "add(2,4)"
      ],
      "metadata": {
        "colab": {
          "base_uri": "https://localhost:8080/"
        },
        "id": "1ghL2BwXJtp7",
        "outputId": "b1c479c6-a19c-4cf1-8aed-e965a4aca9a9"
      },
      "execution_count": null,
      "outputs": [
        {
          "output_type": "stream",
          "name": "stdout",
          "text": [
            "6\n",
            "6\n"
          ]
        }
      ]
    },
    {
      "cell_type": "code",
      "source": [
        "def sub(x,y):\n",
        "  print(x-y)\n",
        "\n"
      ],
      "metadata": {
        "id": "-4xv8GBEKd9U"
      },
      "execution_count": null,
      "outputs": []
    },
    {
      "cell_type": "code",
      "source": [
        "sub(5,3)\n"
      ],
      "metadata": {
        "colab": {
          "base_uri": "https://localhost:8080/"
        },
        "id": "wUO6QfN9KmiL",
        "outputId": "30b7e37c-c9e8-4ae4-feab-7e8891565e8f"
      },
      "execution_count": null,
      "outputs": [
        {
          "output_type": "stream",
          "name": "stdout",
          "text": [
            "2\n"
          ]
        }
      ]
    },
    {
      "cell_type": "code",
      "source": [
        "def sayHi(name):\n",
        "  \"\"\"\n",
        "  This is My First Programe\n",
        "  \"\"\"\n",
        "  print(\"Hi\",name)"
      ],
      "metadata": {
        "id": "d5UV9EOhPtS7"
      },
      "execution_count": null,
      "outputs": []
    },
    {
      "cell_type": "code",
      "source": [
        "sayHi(\"Anil Kumar\")"
      ],
      "metadata": {
        "colab": {
          "base_uri": "https://localhost:8080/"
        },
        "id": "nTkI21fIP7lA",
        "outputId": "1fa24fb9-96a1-4731-d777-91db743e5d48"
      },
      "execution_count": null,
      "outputs": [
        {
          "output_type": "stream",
          "name": "stdout",
          "text": [
            "Hi Anil Kumar\n"
          ]
        }
      ]
    },
    {
      "cell_type": "code",
      "source": [
        "print(sayHi.__doc__)"
      ],
      "metadata": {
        "colab": {
          "base_uri": "https://localhost:8080/"
        },
        "id": "QZTisE3IQAy3",
        "outputId": "e4e0a653-a1da-466f-d4b6-7c754545c4c3"
      },
      "execution_count": null,
      "outputs": [
        {
          "output_type": "stream",
          "name": "stdout",
          "text": [
            "\n",
            "  This is My First Programe\n",
            "  \n"
          ]
        }
      ]
    },
    {
      "cell_type": "code",
      "source": [
        "def func(a):\n",
        "    a = a + 10\n",
        "    return a\n",
        "\n",
        "#Driver's code\n",
        "a = 35\n",
        "func(a)\n",
        "print(a)"
      ],
      "metadata": {
        "colab": {
          "base_uri": "https://localhost:8080/"
        },
        "id": "wuKnjko71Rgi",
        "outputId": "fd52e60a-3a20-40c2-f743-126803787985"
      },
      "execution_count": null,
      "outputs": [
        {
          "output_type": "stream",
          "name": "stdout",
          "text": [
            "35\n"
          ]
        }
      ]
    },
    {
      "cell_type": "code",
      "source": [
        "def square(a):\n",
        "    ans = a * a\n",
        "    return ans\n",
        "\n",
        "#Driver's code\n",
        "a = 4\n",
        "a = square(a)\n",
        "print(a)"
      ],
      "metadata": {
        "colab": {
          "base_uri": "https://localhost:8080/"
        },
        "id": "AciI6CUZ2oug",
        "outputId": "fabc357a-a32c-47fe-dbc9-2bf59b0a4d22"
      },
      "execution_count": null,
      "outputs": [
        {
          "output_type": "stream",
          "name": "stdout",
          "text": [
            "16\n"
          ]
        }
      ]
    },
    {
      "cell_type": "code",
      "source": [
        "def findsum(*args):\n",
        "\n",
        "    sm = 1\n",
        "    for i in args:\n",
        "        sm *= i\n",
        "    return sm\n",
        "\n",
        "#Driver's code\n",
        "z = findsum(1,2,3,4,5)\n",
        "print(z)"
      ],
      "metadata": {
        "colab": {
          "base_uri": "https://localhost:8080/"
        },
        "id": "RjDPwRG-4XnG",
        "outputId": "265aa1ef-b9b4-4669-b096-76a4c6e0abca"
      },
      "execution_count": null,
      "outputs": [
        {
          "output_type": "stream",
          "name": "stdout",
          "text": [
            "120\n"
          ]
        }
      ]
    },
    {
      "cell_type": "code",
      "source": [
        "class Person:\n",
        "    def __init__(self, name, age):\n",
        "        self.name = name\n",
        "        self.age = age\n",
        "    def GetValue(self):\n",
        "      print(\"The name of the person is\",self.name,\"and the age is\",self.age,\".\",sep=\" \")\n",
        "\n",
        "name= input()\n",
        "age =int(input())\n",
        "P1=Person(name,age)\n",
        "P1.GetValue()\n"
      ],
      "metadata": {
        "id": "Tf_u-ljdma2f",
        "colab": {
          "base_uri": "https://localhost:8080/"
        },
        "outputId": "a4840966-9e73-4644-b07b-4522bb7f179d"
      },
      "execution_count": null,
      "outputs": [
        {
          "output_type": "stream",
          "name": "stdout",
          "text": [
            "anil\n",
            "23\n",
            "The name of the person is anil and the age is 23 .\n"
          ]
        }
      ]
    },
    {
      "cell_type": "code",
      "source": [
        "class Person:\n",
        "    city =\" Anathapur\"\n",
        "    def __init__(self, name, age):\n",
        "        self.name = name\n",
        "        self.age = age\n",
        "    def GetValue(self):\n",
        "      print(\"The name of the Person is\",self.name,\"and the age is\",self.age,\"and he is from\",\".\",Person.city,sep=\" \")\n",
        "\n",
        "\n",
        "P1=Person(\"anil\",22)\n",
        "P1.GetValue()\n",
        "\n",
        "P2=Person(\"AK\",20)\n",
        "P2.GetValue()\n",
        "\n",
        "P3 =Person(\"Kumar\",15)\n",
        "P3.GetValue()\n"
      ],
      "metadata": {
        "colab": {
          "base_uri": "https://localhost:8080/"
        },
        "id": "djGM7QquUV8Z",
        "outputId": "9e500e61-65ed-4136-a019-81b0491eaabf"
      },
      "execution_count": null,
      "outputs": [
        {
          "output_type": "stream",
          "name": "stdout",
          "text": [
            "The name of the Person is anil and the age is 22 and he is from .  Anathapur\n",
            "The name of the Person is AK and the age is 20 and he is from .  Anathapur\n",
            "The name of the Person is Kumar and the age is 15 and he is from .  Anathapur\n"
          ]
        }
      ]
    },
    {
      "cell_type": "code",
      "source": [
        "class Person:\n",
        "  def __init__(self,name,age):\n",
        "    self.name=name\n",
        "    self.age=age\n",
        "  @staticmethod\n",
        "  def Hello():\n",
        "    print(\"Hello\")\n",
        "\n",
        "\n",
        "  def GetValue(self):\n",
        "    print(\"The name of the person is\",self.name,\"and the age is\",self.age,\".\",sep=\" \")\n",
        "\n",
        "P1 =Person(\"Anil\",20)\n",
        "P1.GetValue()\n",
        "P1.Hello()\n",
        "\n",
        "P2 =Person(\"AK\",22)\n",
        "P2.GetValue()\n",
        "P2.Hello()\n",
        "print(\"hello hyy\")\n"
      ],
      "metadata": {
        "colab": {
          "base_uri": "https://localhost:8080/"
        },
        "id": "qjtxbUCMdU1a",
        "outputId": "fcc193b9-5acc-4c0b-da8d-56cc4872d362"
      },
      "execution_count": null,
      "outputs": [
        {
          "output_type": "stream",
          "name": "stdout",
          "text": [
            "The name of the person is Anil and the age is 20 .\n",
            "Hello\n",
            "The name of the person is AK and the age is 22 .\n",
            "Hello\n",
            "hello hyy\n"
          ]
        }
      ]
    },
    {
      "cell_type": "code",
      "source": [
        "class Person:\n",
        "    def __init__(self, name, age):\n",
        "        self.__name =name\n",
        "        self.age = age\n",
        "    def GetValue(self):\n",
        "      print(self.__name)\n",
        "\n",
        "\n",
        "P1=Person(\"Anil\",22)\n",
        "#method 1 of accessing data\n",
        "P1.GetValue()\n",
        "# method 2 of accessing data\n",
        "print(P1.__name)\n",
        "# using inheritance\n"
      ],
      "metadata": {
        "colab": {
          "base_uri": "https://localhost:8080/",
          "height": 211
        },
        "id": "FPewtH0hlT0M",
        "outputId": "b5e3bf19-bd84-4f77-8ea7-4635f9cb62ec"
      },
      "execution_count": null,
      "outputs": [
        {
          "output_type": "stream",
          "name": "stdout",
          "text": [
            "Anil\n"
          ]
        },
        {
          "output_type": "error",
          "ename": "AttributeError",
          "evalue": "'Person' object has no attribute '__name'",
          "traceback": [
            "\u001b[0;31m---------------------------------------------------------------------------\u001b[0m",
            "\u001b[0;31mAttributeError\u001b[0m                            Traceback (most recent call last)",
            "\u001b[0;32m<ipython-input-10-1a639f431986>\u001b[0m in \u001b[0;36m<cell line: 13>\u001b[0;34m()\u001b[0m\n\u001b[1;32m     11\u001b[0m \u001b[0mP1\u001b[0m\u001b[0;34m.\u001b[0m\u001b[0mGetValue\u001b[0m\u001b[0;34m(\u001b[0m\u001b[0;34m)\u001b[0m\u001b[0;34m\u001b[0m\u001b[0;34m\u001b[0m\u001b[0m\n\u001b[1;32m     12\u001b[0m \u001b[0;31m# method 2 of accessing data\u001b[0m\u001b[0;34m\u001b[0m\u001b[0;34m\u001b[0m\u001b[0m\n\u001b[0;32m---> 13\u001b[0;31m \u001b[0mprint\u001b[0m\u001b[0;34m(\u001b[0m\u001b[0mP1\u001b[0m\u001b[0;34m.\u001b[0m\u001b[0m__name\u001b[0m\u001b[0;34m)\u001b[0m\u001b[0;34m\u001b[0m\u001b[0;34m\u001b[0m\u001b[0m\n\u001b[0m\u001b[1;32m     14\u001b[0m \u001b[0;31m# using inheritance\u001b[0m\u001b[0;34m\u001b[0m\u001b[0;34m\u001b[0m\u001b[0m\n",
            "\u001b[0;31mAttributeError\u001b[0m: 'Person' object has no attribute '__name'"
          ]
        }
      ]
    },
    {
      "cell_type": "code",
      "source": [
        "class Person:\n",
        "  age =20\n",
        "  def walk(self):\n",
        "    print(\"iam walking\")"
      ],
      "metadata": {
        "id": "EAumkbrVDoV0"
      },
      "execution_count": null,
      "outputs": []
    },
    {
      "cell_type": "code",
      "source": [
        "class Student(Person):\n",
        "  rno=16\n",
        "  def Study(self):\n",
        "    print(\"iam studing\")"
      ],
      "metadata": {
        "id": "ve3TQW38EIOr"
      },
      "execution_count": null,
      "outputs": []
    },
    {
      "cell_type": "code",
      "source": [
        "s1=Student()"
      ],
      "metadata": {
        "id": "wuvxJ74zEoIZ"
      },
      "execution_count": null,
      "outputs": []
    },
    {
      "cell_type": "code",
      "source": [
        "s1.Study()"
      ],
      "metadata": {
        "colab": {
          "base_uri": "https://localhost:8080/"
        },
        "id": "olR5ZzGKEtEh",
        "outputId": "25fe507c-a814-4f21-cd36-4bfe74652c91"
      },
      "execution_count": null,
      "outputs": [
        {
          "output_type": "stream",
          "name": "stdout",
          "text": [
            "iam studing\n"
          ]
        }
      ]
    },
    {
      "cell_type": "code",
      "source": [
        "s1.walk()"
      ],
      "metadata": {
        "colab": {
          "base_uri": "https://localhost:8080/"
        },
        "id": "y2ptGwX5FhU5",
        "outputId": "2ba30450-a928-4aba-a9b4-6ffbc758fd29"
      },
      "execution_count": null,
      "outputs": [
        {
          "output_type": "stream",
          "name": "stdout",
          "text": [
            "iam walking\n"
          ]
        }
      ]
    },
    {
      "cell_type": "code",
      "source": [
        "#polimorphism\n",
        "a=2\n",
        "b=5\n",
        "c=\"Anil\"\n",
        "d=\"kumar\""
      ],
      "metadata": {
        "id": "Ri7XrBisFljb"
      },
      "execution_count": 2,
      "outputs": []
    },
    {
      "cell_type": "code",
      "source": [
        "print(a+b)"
      ],
      "metadata": {
        "colab": {
          "base_uri": "https://localhost:8080/"
        },
        "id": "loywWVz2fcwX",
        "outputId": "cc8a262d-16b3-4ca3-e4c9-04b4a7be5e0b"
      },
      "execution_count": 3,
      "outputs": [
        {
          "output_type": "stream",
          "name": "stdout",
          "text": [
            "7\n"
          ]
        }
      ]
    },
    {
      "cell_type": "code",
      "source": [
        "print(c+d)"
      ],
      "metadata": {
        "colab": {
          "base_uri": "https://localhost:8080/"
        },
        "id": "Hq6rF3-nfrv9",
        "outputId": "1ad981e6-5d62-41a1-d39d-538ef0080e80"
      },
      "execution_count": 4,
      "outputs": [
        {
          "output_type": "stream",
          "name": "stdout",
          "text": [
            "Anilkumar\n"
          ]
        }
      ]
    },
    {
      "cell_type": "code",
      "source": [
        "print(len(\"Anil\"))"
      ],
      "metadata": {
        "colab": {
          "base_uri": "https://localhost:8080/"
        },
        "id": "3VMIfCpWfwsH",
        "outputId": "8330cbe7-a9b2-4bce-8e35-628f0c84b66e"
      },
      "execution_count": 5,
      "outputs": [
        {
          "output_type": "stream",
          "name": "stdout",
          "text": [
            "4\n"
          ]
        }
      ]
    },
    {
      "cell_type": "code",
      "source": [],
      "metadata": {
        "id": "oUYdqlaggDNM"
      },
      "execution_count": null,
      "outputs": []
    }
  ],
  "metadata": {
    "colab": {
      "provenance": [],
      "authorship_tag": "ABX9TyMKCCZhR4Xz2k5ZIs36t/8S",
      "include_colab_link": true
    },
    "kernelspec": {
      "display_name": "Python 3",
      "name": "python3"
    },
    "language_info": {
      "name": "python"
    }
  },
  "nbformat": 4,
  "nbformat_minor": 0
}